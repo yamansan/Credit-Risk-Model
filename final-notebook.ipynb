{
 "cells": [
  {
   "cell_type": "code",
   "execution_count": 42,
   "metadata": {},
   "outputs": [],
   "source": [
    "import polars as pl\n",
    "import numpy as np\n",
    "import pandas as pd\n",
    "import lightgbm as lgb\n",
    "from sklearn.model_selection import train_test_split\n",
    "from sklearn.metrics import roc_auc_score \n",
    "from sklearn.decomposition import PCA\n",
    "from sklearn.model_selection import GridSearchCV\n",
    "import matplotlib.pyplot as plt\n",
    "\n",
    "pd.set_option('display.max_columns', None)\n",
    "\n",
    "dataPath = \"\""
   ]
  },
  {
   "cell_type": "code",
   "execution_count": 43,
   "metadata": {},
   "outputs": [],
   "source": [
    "#Converting columns into appropriate datatypes:\n",
    "def set_table_dtypes(df: pl.DataFrame) -> pl.DataFrame:\n",
    "    for col in df.columns:\n",
    "        # converting the string columns which are actually floating points into floating point columns\n",
    "        if (col[-1] in (\"P\", \"A\")) or (col[:3]=='num' and df[col].dtype==pl.String):\n",
    "            df = df.with_columns(pl.col(col).cast(pl.Float64).alias(col))\n",
    "    return df\n",
    "\n",
    "def convert_strings(df: pd.DataFrame) -> pd.DataFrame:\n",
    "    for col in df.columns:  \n",
    "        if df[col].dtype.name in ['object', 'string']:\n",
    "            df[col] = df[col].astype(\"string\").astype('category')\n",
    "            current_categories = df[col].cat.categories\n",
    "            new_categories = current_categories.to_list() + [\"Unknown\"]\n",
    "            new_dtype = pd.CategoricalDtype(categories=new_categories, ordered=True)\n",
    "            df[col] = df[col].astype(new_dtype)\n",
    "    return df\n",
    "\n",
    "#Counting how much percent data is null\n",
    "def null_percent(df: pl.DataFrame) -> pl.DataFrame:\n",
    "    Ny = df.shape[0]  #Number of rows (or how tall is it)\n",
    "\n",
    "    nulldf_dict = {}\n",
    "    for col in df.columns:\n",
    "        \n",
    "        x = round((100*df[col].is_null().sum())/Ny)\n",
    "        \n",
    "        #create a dictionary for the column names and their null values\n",
    "        nulldf_dict[col] = [x]\n",
    "    \n",
    "    nulldf = pd.DataFrame(data = nulldf_dict)\n",
    "    return nulldf\n",
    "\n",
    "def nulldropper(df: pl.DataFrame) -> pl.DataFrame:\n",
    "    #This function deletes the columns in which null values exceed a threshold (which is 60% at this time)\n",
    "    Ny = df.shape[0]  #Number of rows (or how tall is it)\n",
    "    \n",
    "    #col_after_deletion is list of columns that will survive after dropping nulls\n",
    "    col_after_deletion = []\n",
    "    col_delete = []\n",
    "    #Threshold for null percent\n",
    "    threshold = 60.0\n",
    "    \n",
    "    for col in df.columns:\n",
    "        \n",
    "        x = round((100*df[col].is_null().sum())/Ny)\n",
    "        if x < threshold:\n",
    "            col_after_deletion.append(col)\n",
    "        else:\n",
    "            #metadata containing columns to be deleted.\n",
    "            col_delete.append(col)\n",
    "                \n",
    "    df_new = df.select(col_after_deletion)\n",
    "    \n",
    "    return df_new, col_delete\n",
    "    \n",
    "\n",
    "def str_to_date(df: pl.DataFrame) -> pl.DataFrame:\n",
    "    #This function converts string columns which have dates into datetime format\n",
    "    D_col = []\n",
    "    for col in df.columns:\n",
    "        #Note that all the date columns end with a 'D'\n",
    "        if col[-1]=='D':\n",
    "            D_col.append(col)\n",
    "            \n",
    "    df = df.with_columns([df[col].str.strptime(pl.Datetime, \"%Y-%m-%d\").alias(col)  for col in D_col])\n",
    "        \n",
    "    return df\n",
    "\n",
    "def extract_string_columns(df: pl.DataFrame) -> pl.DataFrame:\n",
    "    #This function just outputs the column names and index as a dictionary for those columns which are in string type.\n",
    "    string_cols = {}\n",
    "    for i,col in enumerate(df.columns):\n",
    "        if df[col].dtype==pl.String:\n",
    "            string_cols[col] = i\n",
    "    \n",
    "    return string_cols\n",
    "\n",
    "def string_columns_list(df: pl.DataFrame) -> pl.DataFrame:\n",
    "    #This outputs the names of the columns which are in string format.\n",
    "    string_cols = []\n",
    "    for i,col in enumerate(df.columns):\n",
    "        if df[col].dtype==pl.String:\n",
    "            string_cols.append(col)\n",
    "    \n",
    "    return string_cols\n",
    "\n",
    "def bool_columns_list(df: pl.DataFrame) -> pl.DataFrame:\n",
    "    #This outputs the names of the columns which are in string format.\n",
    "    bool_cols = []\n",
    "    for i,col in enumerate(df.columns):\n",
    "        if df[col].dtype==pl.Boolean:\n",
    "            bool_cols.append(col)\n",
    "    \n",
    "    return bool_cols\n",
    "\n",
    "def date_columns_list(df: pl.DataFrame) -> pl.DataFrame:\n",
    "    #This function outputs the names of the columns which are in datetime format\n",
    "    date_cols = []\n",
    "    for i,col in enumerate(df.columns):\n",
    "        if df[col].dtype==pl.Datetime:\n",
    "            date_cols.append(col)\n",
    "    \n",
    "    return date_cols\n",
    "\n",
    "def float_columns_list(df: pl.DataFrame) -> pl.DataFrame:\n",
    "    #This function outputs the names of the columns which are in float64 format.\n",
    "    float_cols = []\n",
    "    for i,col in enumerate(df.columns):\n",
    "        if df[col].dtype==pl.Float64:\n",
    "            float_cols.append(col)\n",
    "    \n",
    "    return float_cols\n",
    "\n",
    "def numeric_columns_list(df: pl.DataFrame) -> pl.DataFrame:\n",
    "    \n",
    "    #This function outputs the names of the columns which are numeric. \n",
    "    numeric_cols = []\n",
    "    \n",
    "    for i,col in enumerate(df.columns):\n",
    "        if df[col].dtype.is_numeric():\n",
    "            numeric_cols.append(col)\n",
    "    \n",
    "    return numeric_cols"
   ]
  },
  {
   "cell_type": "code",
   "execution_count": 44,
   "metadata": {},
   "outputs": [],
   "source": [
    "def compress_unique_values(df: pl.DataFrame) -> pl.DataFrame:\n",
    "    #We want to find the frequency distribution of the unique string values. \n",
    "    df_height = df.shape[0]\n",
    "    Ny = df_height\n",
    "    column_dropped = []\n",
    "    stringindex = []\n",
    "    \n",
    "    #This is a dictionary where keys are the column names and values are list of unique string values that are kept after the compression treatment.\n",
    "    col_unique_values = {}\n",
    "    for i,col in enumerate(df.columns):\n",
    "        if df[col].dtype==pl.String:\n",
    "            \n",
    "            #x is null percentage\n",
    "            x = round((100*df[col].is_null().sum())/(df.shape[0]))\n",
    "            \n",
    "            #y = number of unique values in column=col\n",
    "            y = df.unique(subset=col, maintain_order=True).shape[0]\n",
    "            \n",
    "            #A is frequency distribution of unique values\n",
    "            A = df[col].value_counts()\n",
    "            \n",
    "            #B sorts A according to count\n",
    "            B = A.sort('count')\n",
    "            \n",
    "            #z is the maximum counts of a unique value\n",
    "            z = A.select(pl.max('count'))\n",
    "            \n",
    "            #mod here is the fraction of max frequent element i.e. the actual mod\n",
    "            mod = (100*z[0,0])/(Ny)\n",
    "            \n",
    "            #Grouping\n",
    "            frequency_df = df.group_by(col).count().sort(by='count', descending=True)\n",
    "            \n",
    "            #Making a dataframe low_freq_values (and then a list low_freq_list) of string values that occur are less than mode/10.\n",
    "            low_freq_values = frequency_df.filter(pl.col('count') < z/10).select(col)\n",
    "            low_freq_list = low_freq_values.to_series().to_list()\n",
    "            \n",
    "            high_freq_values = frequency_df.filter(pl.col('count') >= z/10).select(col)\n",
    "            high_freq_list = high_freq_values.to_series().to_list()\n",
    "            #high_freq_with_none = high_freq_list.append('NONE')\n",
    "            #Appending the list of unique values that will be left\n",
    "            col_unique_values[col] = high_freq_list\n",
    "            \n",
    "            df = df.with_columns(pl.when(pl.col(col).is_in(low_freq_values)).then(pl.lit('other')).otherwise(pl.col(col)).alias(col))\n",
    "            \n",
    "            #making a list of columns with string datatype\n",
    "            stringindex.append(i)\n",
    "            \n",
    "            if mod>90:\n",
    "                #if the mod covers 90% or more of a column then it is useless as a column\n",
    "                column_dropped.append(col)\n",
    "            \n",
    "    df = df.drop(column_dropped)\n",
    "    return df, column_dropped, col_unique_values"
   ]
  },
  {
   "cell_type": "code",
   "execution_count": 45,
   "metadata": {},
   "outputs": [],
   "source": [
    "#Zero variance remover is needed.\n",
    "#If the variance of a column is zero, then it must be removed.\n",
    "def zero_variance_remover(df: pl.DataFrame) -> pl.DataFrame:\n",
    "    \n",
    "    #Getting the list of columns with float type data\n",
    "    numeric_cols = numeric_columns_list(df)\n",
    "    \n",
    "    #Creating a dataframe A with numeric columns\n",
    "    A = df[numeric_cols]\n",
    "    \n",
    "    #Creating a dataframe V (with just one row) which has the standard dev of each column of A\n",
    "    V = A.std()\n",
    "    \n",
    "    column_dropped = []\n",
    "    for col in numeric_cols:\n",
    "        if V[col][0]==0:\n",
    "            column_dropped.append(col)\n",
    "\n",
    "    df = df.drop(column_dropped)\n",
    "    return df, column_dropped"
   ]
  },
  {
   "cell_type": "code",
   "execution_count": 46,
   "metadata": {},
   "outputs": [],
   "source": [
    "#Remove columns with high correlations,\n",
    "def high_corr_remover(df: pl.DataFrame) -> pl.DataFrame:\n",
    "    \n",
    "    #Getting the list of columns with float type data\n",
    "    float_cols = float_columns_list(df)\n",
    "    \n",
    "    #Creating a dataframe A with only float type columns of df\n",
    "    A = df[float_cols]\n",
    "    \n",
    "    #Initializing a list of columns which will be dropped\n",
    "    column_dropped = []\n",
    "    \n",
    "    #Two nested loops for finding correlation between i^th and j^th column. If the correlation between two columns is greater than 0.9 (90%)\n",
    "    #then we delete the column with greater number of null values among the two.\n",
    "    for i,col1 in enumerate(A.columns):\n",
    "        for j,col2 in enumerate(A.columns):\n",
    "            if j>=i:\n",
    "                break\n",
    "            else:\n",
    "                B=A.select(pl.corr(col1, col2))\n",
    "                #Let's set 0.9 as the threshold.\n",
    "                if B[0,0]>0.9:\n",
    "                    #If null value of col2 is greater then append col 2 in the list of columns to be deleted else do otherwise.\n",
    "                    if (A[col1].is_null().sum())<(A[col2].is_null().sum()):\n",
    "                        column_dropped.append(col2)\n",
    "                    else:\n",
    "                        column_dropped.append(col1)\n",
    "    \n",
    "    df = df.drop(column_dropped)\n",
    "    return df, column_dropped"
   ]
  },
  {
   "cell_type": "code",
   "execution_count": 47,
   "metadata": {},
   "outputs": [],
   "source": [
    "def Zscore_normalizer(df: pl.DataFrame) -> pl.DataFrame:\n",
    "    #This function uses Zscore normalization to normalize all the float type columns.\n",
    "    \n",
    "    #Getting the list of columns with float type data\n",
    "    float_cols = float_columns_list(df)\n",
    "    \n",
    "    #Creating a dataframe A with only float type columns of df\n",
    "    A = df[float_cols]\n",
    "    \n",
    "    #Creating a dataframe B whose columns are that of df but Zscore normalized. So each float type column in B now has a \"mean = 0\" and a \"std = 1\".\n",
    "    for col in A.columns:\n",
    "        if df[col].std()!=0:\n",
    "            df = df.with_columns((pl.col(col)-pl.col(col).mean())/(pl.col(col).std()))\n",
    "    \n",
    "    return df"
   ]
  },
  {
   "cell_type": "code",
   "execution_count": 48,
   "metadata": {},
   "outputs": [],
   "source": [
    "def subtract_reference_date(df: pl.DataFrame) -> pl.DataFrame:\n",
    "    \n",
    "    #Extract the list of columns with date datatype.\n",
    "    date_col = date_columns_list(df)\n",
    "    \n",
    "    #Creating a reference column whose dates are minimum among all corresponding elements of all the other date columns.\n",
    "    df = df.with_columns(pl.min_horizontal(date_col).alias(\"min_date\"))\n",
    "    \n",
    "    #Subtracting the reference date from every date column.\n",
    "    for col in date_col:\n",
    "        df = df.with_columns((pl.col(col) - pl.col(\"min_date\")).dt.total_days().alias(col))\n",
    "    \n",
    "    #Drop the reference date columns.\n",
    "    df = df.drop('min_date')\n",
    "    \n",
    "    return df"
   ]
  },
  {
   "cell_type": "code",
   "execution_count": 49,
   "metadata": {},
   "outputs": [],
   "source": [
    "def one_hot_encode(train_df: pl.DataFrame, test_df: pl.DataFrame) -> tuple[pl.DataFrame,pl.DataFrame]:\n",
    "    encoded_train = train_df\n",
    "    encoded_test = test_df\n",
    "    string_cols = train_df.pipe(string_columns_list)\n",
    "    boolean_cols = train_df.pipe(bool_columns_list)\n",
    "    catcols = string_cols + boolean_cols\n",
    "    for colm in catcols:\n",
    "        if colm != 'case_id':\n",
    "            # Get unique categories from the training DataFrame\n",
    "            unique_categories = train_df[colm].unique().to_list()\n",
    "\n",
    "            # Create one-hot encoding for the training DataFrame\n",
    "            encoded_train = encoded_train.with_columns(\n",
    "                [\n",
    "                    pl.when(pl.col(colm) == category).then(1).otherwise(0).alias(f\"{colm}_{category}\") if category is not None\n",
    "                    else pl.when(pl.col(colm).is_null()).then(1).otherwise(0).alias(f\"{colm}_None\")\n",
    "                    for category in unique_categories\n",
    "                ]\n",
    "            )\n",
    "\n",
    "            # Drop the original column from the training DataFrame\n",
    "            encoded_train = encoded_train.drop(colm)\n",
    "\n",
    "            # Create one-hot encoding for the testing DataFrame\n",
    "            encoded_test = encoded_test.with_columns(\n",
    "                [\n",
    "                    pl.when(pl.col(colm) == category).then(1).otherwise(0).alias(f\"{colm}_{category}\") if category is not None\n",
    "                    else pl.when(pl.col(colm).is_null()).then(1).otherwise(0).alias(f\"{colm}_None\")\n",
    "                    for category in unique_categories\n",
    "                ]\n",
    "            )\n",
    "\n",
    "            # Drop the original column from the testing DataFrame\n",
    "            encoded_test = encoded_test.drop(colm)\n",
    "\n",
    "            # Add missing columns to the test DataFrame\n",
    "            for category in unique_categories:\n",
    "                category_col = f\"{colm}_{category}\" if category is not None else f\"{colm}_None\"\n",
    "                if category_col not in encoded_test.columns:\n",
    "                    encoded_test = encoded_test.with_columns(pl.lit(0).alias(category_col))\n",
    "\n",
    "            # Ensure the columns are in the same order\n",
    "            encoded_test = encoded_test.select(encoded_train.columns)\n",
    "\n",
    "    # Verify the columns\n",
    "    #print(encoded_train.columns)\n",
    "    #print(encoded_test.columns)\n",
    "    return encoded_train,encoded_test"
   ]
  },
  {
   "cell_type": "code",
   "execution_count": 50,
   "metadata": {},
   "outputs": [],
   "source": [
    "def round_floats(df: pl.DataFrame) -> pl.DataFrame:\n",
    "    \n",
    "    #This function will round off all the float type columns in order to make values like 10^-9 into 0.\n",
    "    float_cols = float_columns_list(df)\n",
    "    \n",
    "    for col in float_cols:\n",
    "        df = df.with_columns(pl.col(col).round(6).alias(col))  \n",
    "    \n",
    "    return df"
   ]
  },
  {
   "cell_type": "code",
   "execution_count": 51,
   "metadata": {},
   "outputs": [],
   "source": [
    "def rename_categories(df: pl.DataFrame, categories_dict: dict) -> pl.DataFrame:\n",
    "    for col, valid_categories in categories_dict.items():\n",
    "        if col in df.columns:\n",
    "            # Create a dictionary for fast lookup\n",
    "            category_set = set(valid_categories)\n",
    "            df = df.with_columns(\n",
    "                pl.col(col).map_elements(lambda x: x if x in category_set else 'other', return_dtype=pl.Utf8).alias(col)\n",
    "            )\n",
    "    return df"
   ]
  },
  {
   "cell_type": "code",
   "execution_count": 52,
   "metadata": {},
   "outputs": [],
   "source": [
    "def combined_pipes_both(train_df,test_df):\n",
    "    train_df = train_df.pipe(set_table_dtypes).pipe(str_to_date).pipe(subtract_reference_date)\n",
    "    test_df = test_df.pipe(set_table_dtypes).pipe(str_to_date).pipe(subtract_reference_date)\n",
    "    \n",
    "    train_df, columns_dropped = train_df.pipe(nulldropper)\n",
    "    test_df = test_df.drop(columns_dropped)\n",
    "    \n",
    "    #df_train, col_drop, unique_string_values = df_train.pipe(compress_unique_values)\n",
    "    #df_test = df_test.drop(col_drop)\n",
    "    \n",
    "    #train_df = df_train\n",
    "    #test_df = df_test\n",
    "    \n",
    "    # Compressing the categories in each column\n",
    "    train_df, str_columns_dropped, str_col_unique_values = train_df.pipe(compress_unique_values)\n",
    "    \n",
    "    # Replicating the compression of categories in the test data\n",
    "    test_columns = test_df.columns\n",
    "    str_columns_pre_1hot = [col for col in test_columns if col not in str_columns_dropped]\n",
    "    test_df = test_df[str_columns_pre_1hot]\n",
    "    test_df = test_df.pipe(rename_categories,str_col_unique_values)\n",
    "    \n",
    "    # One Hot Encoding\n",
    "    train_df,test_df = train_df.pipe(one_hot_encode,test_df)\n",
    "    \n",
    "    train_df, col_drop = train_df.pipe(zero_variance_remover)\n",
    "    test_df = test_df.drop(col_drop)\n",
    "    \n",
    "    train_df = train_df.pipe(Zscore_normalizer)\n",
    "    test_df = test_df.pipe(Zscore_normalizer)\n",
    "    \n",
    "    train_df, col_drop = train_df.pipe(high_corr_remover)\n",
    "    test_df = test_df.drop(col_drop)\n",
    "    \n",
    "    train_df = train_df.fill_null(strategy=\"mean\")\n",
    "    means = train_df.mean()\n",
    "    for col in test_df.columns:\n",
    "        test_df = test_df.with_columns(pl.when(pl.col(col).is_null()).then(means[col]).otherwise(pl.col(col)).alias(col))\n",
    "    \n",
    "    train_df = train_df.pipe(round_floats)\n",
    "    test_df = test_df.pipe(round_floats)\n",
    "\n",
    "\n",
    "    return train_df, test_df\n"
   ]
  },
  {
   "cell_type": "code",
   "execution_count": 53,
   "metadata": {},
   "outputs": [],
   "source": [
    "dataPath = \"\"\n",
    "train_basetable = pl.read_csv(dataPath + \"csv_files/train/train_base.csv\")\n",
    "train_static = pl.concat(\n",
    "    [\n",
    "        pl.read_csv(dataPath + \"csv_files/train/train_static_0_0.csv\").pipe(set_table_dtypes),\n",
    "        pl.read_csv(dataPath + \"csv_files/train/train_static_0_1.csv\").pipe(set_table_dtypes),\n",
    "    ],\n",
    "    how=\"vertical_relaxed\",\n",
    ")\n",
    "train_static_cb = pl.read_csv(dataPath + \"csv_files/train/train_static_cb_0.csv\").pipe(set_table_dtypes)\n",
    "train_person_1 = pl.read_csv(dataPath + \"csv_files/train/train_person_1.csv\").pipe(set_table_dtypes) \n",
    "train_credit_bureau_b_2 = pl.read_csv(dataPath + \"csv_files/train/train_credit_bureau_b_2.csv\").pipe(set_table_dtypes) "
   ]
  },
  {
   "cell_type": "code",
   "execution_count": 54,
   "metadata": {},
   "outputs": [],
   "source": [
    "ts_cb = train_static.join(train_static_cb, on=\"case_id\", how=\"outer\")"
   ]
  },
  {
   "cell_type": "code",
   "execution_count": 55,
   "metadata": {},
   "outputs": [
    {
     "data": {
      "text/html": [
       "<div><style>\n",
       ".dataframe > thead > tr,\n",
       ".dataframe > tbody > tr {\n",
       "  text-align: right;\n",
       "  white-space: pre-wrap;\n",
       "}\n",
       "</style>\n",
       "<small>shape: (1_526_659, 221)</small><table border=\"1\" class=\"dataframe\"><thead><tr><th>case_id</th><th>actualdpdtolerance_344P</th><th>amtinstpaidbefduel24m_4187115A</th><th>annuity_780A</th><th>annuitynextmonth_57A</th><th>applicationcnt_361L</th><th>applications30d_658L</th><th>applicationscnt_1086L</th><th>applicationscnt_464L</th><th>applicationscnt_629L</th><th>applicationscnt_867L</th><th>avgdbddpdlast24m_3658932P</th><th>avgdbddpdlast3m_4187120P</th><th>avgdbdtollast24m_4525197P</th><th>avgdpdtolclosure24_3658938P</th><th>avginstallast24m_3658937A</th><th>avglnamtstart24m_4525187A</th><th>avgmaxdpdlast9m_3716943P</th><th>avgoutstandbalancel6m_4187114A</th><th>avgpmtlast12m_4525200A</th><th>bankacctype_710L</th><th>cardtype_51L</th><th>clientscnt12m_3712952L</th><th>clientscnt3m_3712950L</th><th>clientscnt6m_3712949L</th><th>clientscnt_100L</th><th>clientscnt_1022L</th><th>clientscnt_1071L</th><th>clientscnt_1130L</th><th>clientscnt_136L</th><th>clientscnt_157L</th><th>clientscnt_257L</th><th>clientscnt_304L</th><th>clientscnt_360L</th><th>clientscnt_493L</th><th>clientscnt_533L</th><th>clientscnt_887L</th><th>&hellip;</th><th>firstquarter_103L</th><th>for3years_128L</th><th>for3years_504L</th><th>for3years_584L</th><th>formonth_118L</th><th>formonth_206L</th><th>formonth_535L</th><th>forquarter_1017L</th><th>forquarter_462L</th><th>forquarter_634L</th><th>fortoday_1092L</th><th>forweek_1077L</th><th>forweek_528L</th><th>forweek_601L</th><th>foryear_618L</th><th>foryear_818L</th><th>foryear_850L</th><th>fourthquarter_440L</th><th>maritalst_385M</th><th>maritalst_893M</th><th>numberofqueries_373L</th><th>pmtaverage_3A</th><th>pmtaverage_4527227A</th><th>pmtaverage_4955615A</th><th>pmtcount_4527229L</th><th>pmtcount_4955617L</th><th>pmtcount_693L</th><th>pmtscount_423L</th><th>pmtssum_45A</th><th>requesttype_4525192L</th><th>responsedate_1012D</th><th>responsedate_4527233D</th><th>responsedate_4917613D</th><th>riskassesment_302T</th><th>riskassesment_940T</th><th>secondquarter_766L</th><th>thirdquarter_1082L</th></tr><tr><td>i64</td><td>f64</td><td>f64</td><td>f64</td><td>f64</td><td>f64</td><td>f64</td><td>f64</td><td>f64</td><td>f64</td><td>f64</td><td>f64</td><td>f64</td><td>f64</td><td>f64</td><td>f64</td><td>f64</td><td>f64</td><td>f64</td><td>f64</td><td>str</td><td>str</td><td>f64</td><td>f64</td><td>f64</td><td>f64</td><td>f64</td><td>f64</td><td>f64</td><td>str</td><td>f64</td><td>f64</td><td>f64</td><td>f64</td><td>f64</td><td>f64</td><td>f64</td><td>&hellip;</td><td>f64</td><td>f64</td><td>f64</td><td>f64</td><td>f64</td><td>f64</td><td>f64</td><td>f64</td><td>f64</td><td>f64</td><td>f64</td><td>f64</td><td>f64</td><td>f64</td><td>f64</td><td>f64</td><td>f64</td><td>f64</td><td>str</td><td>str</td><td>f64</td><td>f64</td><td>f64</td><td>f64</td><td>str</td><td>str</td><td>f64</td><td>f64</td><td>f64</td><td>str</td><td>str</td><td>str</td><td>str</td><td>str</td><td>f64</td><td>f64</td><td>f64</td></tr></thead><tbody><tr><td>0</td><td>null</td><td>null</td><td>1917.6</td><td>0.0</td><td>0.0</td><td>0.0</td><td>0.0</td><td>0.0</td><td>0.0</td><td>0.0</td><td>null</td><td>null</td><td>null</td><td>null</td><td>null</td><td>null</td><td>null</td><td>null</td><td>null</td><td>null</td><td>null</td><td>0.0</td><td>0.0</td><td>0.0</td><td>0.0</td><td>0.0</td><td>0.0</td><td>0.0</td><td>null</td><td>0.0</td><td>0.0</td><td>0.0</td><td>0.0</td><td>0.0</td><td>0.0</td><td>0.0</td><td>&hellip;</td><td>null</td><td>null</td><td>null</td><td>null</td><td>null</td><td>null</td><td>null</td><td>null</td><td>null</td><td>null</td><td>null</td><td>null</td><td>null</td><td>null</td><td>null</td><td>null</td><td>null</td><td>null</td><td>null</td><td>null</td><td>null</td><td>null</td><td>null</td><td>null</td><td>null</td><td>null</td><td>null</td><td>null</td><td>null</td><td>null</td><td>null</td><td>null</td><td>null</td><td>null</td><td>null</td><td>null</td><td>null</td></tr><tr><td>1</td><td>null</td><td>null</td><td>3134.0</td><td>0.0</td><td>0.0</td><td>0.0</td><td>0.0</td><td>0.0</td><td>0.0</td><td>0.0</td><td>null</td><td>null</td><td>null</td><td>null</td><td>null</td><td>null</td><td>null</td><td>null</td><td>null</td><td>null</td><td>null</td><td>0.0</td><td>0.0</td><td>0.0</td><td>0.0</td><td>0.0</td><td>0.0</td><td>0.0</td><td>&quot;0.0&quot;</td><td>3.0</td><td>0.0</td><td>0.0</td><td>0.0</td><td>0.0</td><td>0.0</td><td>0.0</td><td>&hellip;</td><td>null</td><td>null</td><td>null</td><td>null</td><td>null</td><td>null</td><td>null</td><td>null</td><td>null</td><td>null</td><td>null</td><td>null</td><td>null</td><td>null</td><td>null</td><td>null</td><td>null</td><td>null</td><td>null</td><td>null</td><td>null</td><td>null</td><td>null</td><td>null</td><td>null</td><td>null</td><td>null</td><td>null</td><td>null</td><td>null</td><td>null</td><td>null</td><td>null</td><td>null</td><td>null</td><td>null</td><td>null</td></tr><tr><td>2</td><td>null</td><td>null</td><td>4937.0</td><td>0.0</td><td>0.0</td><td>0.0</td><td>0.0</td><td>0.0</td><td>0.0</td><td>0.0</td><td>null</td><td>null</td><td>null</td><td>null</td><td>null</td><td>null</td><td>null</td><td>null</td><td>null</td><td>null</td><td>null</td><td>0.0</td><td>0.0</td><td>0.0</td><td>0.0</td><td>0.0</td><td>0.0</td><td>0.0</td><td>null</td><td>0.0</td><td>0.0</td><td>0.0</td><td>0.0</td><td>0.0</td><td>0.0</td><td>0.0</td><td>&hellip;</td><td>null</td><td>null</td><td>null</td><td>null</td><td>null</td><td>null</td><td>null</td><td>null</td><td>null</td><td>null</td><td>null</td><td>null</td><td>null</td><td>null</td><td>null</td><td>null</td><td>null</td><td>null</td><td>null</td><td>null</td><td>null</td><td>null</td><td>null</td><td>null</td><td>null</td><td>null</td><td>null</td><td>null</td><td>null</td><td>null</td><td>null</td><td>null</td><td>null</td><td>null</td><td>null</td><td>null</td><td>null</td></tr><tr><td>3</td><td>null</td><td>null</td><td>4643.6</td><td>0.0</td><td>0.0</td><td>1.0</td><td>0.0</td><td>2.0</td><td>0.0</td><td>1.0</td><td>null</td><td>null</td><td>null</td><td>null</td><td>null</td><td>null</td><td>null</td><td>null</td><td>null</td><td>null</td><td>null</td><td>0.0</td><td>0.0</td><td>0.0</td><td>0.0</td><td>0.0</td><td>0.0</td><td>1.0</td><td>null</td><td>0.0</td><td>0.0</td><td>0.0</td><td>0.0</td><td>0.0</td><td>0.0</td><td>0.0</td><td>&hellip;</td><td>null</td><td>null</td><td>null</td><td>null</td><td>null</td><td>null</td><td>null</td><td>null</td><td>null</td><td>null</td><td>null</td><td>null</td><td>null</td><td>null</td><td>null</td><td>null</td><td>null</td><td>null</td><td>null</td><td>null</td><td>null</td><td>null</td><td>null</td><td>null</td><td>null</td><td>null</td><td>null</td><td>null</td><td>null</td><td>null</td><td>null</td><td>null</td><td>null</td><td>null</td><td>null</td><td>null</td><td>null</td></tr><tr><td>4</td><td>null</td><td>null</td><td>3390.2</td><td>0.0</td><td>0.0</td><td>1.0</td><td>0.0</td><td>0.0</td><td>0.0</td><td>1.0</td><td>null</td><td>null</td><td>null</td><td>null</td><td>null</td><td>null</td><td>null</td><td>null</td><td>null</td><td>null</td><td>null</td><td>0.0</td><td>0.0</td><td>0.0</td><td>0.0</td><td>0.0</td><td>0.0</td><td>0.0</td><td>null</td><td>0.0</td><td>0.0</td><td>0.0</td><td>0.0</td><td>0.0</td><td>0.0</td><td>0.0</td><td>&hellip;</td><td>null</td><td>null</td><td>null</td><td>null</td><td>null</td><td>null</td><td>null</td><td>null</td><td>null</td><td>null</td><td>null</td><td>null</td><td>null</td><td>null</td><td>null</td><td>null</td><td>null</td><td>null</td><td>null</td><td>null</td><td>null</td><td>null</td><td>null</td><td>null</td><td>null</td><td>null</td><td>null</td><td>null</td><td>null</td><td>null</td><td>null</td><td>null</td><td>null</td><td>null</td><td>null</td><td>null</td><td>null</td></tr><tr><td>&hellip;</td><td>&hellip;</td><td>&hellip;</td><td>&hellip;</td><td>&hellip;</td><td>&hellip;</td><td>&hellip;</td><td>&hellip;</td><td>&hellip;</td><td>&hellip;</td><td>&hellip;</td><td>&hellip;</td><td>&hellip;</td><td>&hellip;</td><td>&hellip;</td><td>&hellip;</td><td>&hellip;</td><td>&hellip;</td><td>&hellip;</td><td>&hellip;</td><td>&hellip;</td><td>&hellip;</td><td>&hellip;</td><td>&hellip;</td><td>&hellip;</td><td>&hellip;</td><td>&hellip;</td><td>&hellip;</td><td>&hellip;</td><td>&hellip;</td><td>&hellip;</td><td>&hellip;</td><td>&hellip;</td><td>&hellip;</td><td>&hellip;</td><td>&hellip;</td><td>&hellip;</td><td>&hellip;</td><td>&hellip;</td><td>&hellip;</td><td>&hellip;</td><td>&hellip;</td><td>&hellip;</td><td>&hellip;</td><td>&hellip;</td><td>&hellip;</td><td>&hellip;</td><td>&hellip;</td><td>&hellip;</td><td>&hellip;</td><td>&hellip;</td><td>&hellip;</td><td>&hellip;</td><td>&hellip;</td><td>&hellip;</td><td>&hellip;</td><td>&hellip;</td><td>&hellip;</td><td>&hellip;</td><td>&hellip;</td><td>&hellip;</td><td>&hellip;</td><td>&hellip;</td><td>&hellip;</td><td>&hellip;</td><td>&hellip;</td><td>&hellip;</td><td>&hellip;</td><td>&hellip;</td><td>&hellip;</td><td>&hellip;</td><td>&hellip;</td><td>&hellip;</td><td>&hellip;</td><td>&hellip;</td></tr><tr><td>2703450</td><td>0.0</td><td>176561.36</td><td>3675.4001</td><td>0.0</td><td>0.0</td><td>0.0</td><td>0.0</td><td>0.0</td><td>0.0</td><td>10.0</td><td>-23.0</td><td>-43.0</td><td>-23.0</td><td>0.0</td><td>7356.8003</td><td>null</td><td>0.0</td><td>16392.496</td><td>6750.2</td><td>&quot;CA&quot;</td><td>null</td><td>0.0</td><td>0.0</td><td>0.0</td><td>0.0</td><td>0.0</td><td>0.0</td><td>0.0</td><td>null</td><td>0.0</td><td>0.0</td><td>0.0</td><td>0.0</td><td>0.0</td><td>0.0</td><td>0.0</td><td>&hellip;</td><td>0.0</td><td>null</td><td>null</td><td>null</td><td>null</td><td>null</td><td>null</td><td>null</td><td>null</td><td>null</td><td>null</td><td>null</td><td>null</td><td>null</td><td>null</td><td>null</td><td>null</td><td>1.0</td><td>&quot;a55475b1&quot;</td><td>&quot;a55475b1&quot;</td><td>0.0</td><td>null</td><td>null</td><td>12155.0</td><td>null</td><td>&quot;12.0&quot;</td><td>null</td><td>null</td><td>null</td><td>null</td><td>null</td><td>null</td><td>&quot;2020-10-19&quot;</td><td>null</td><td>null</td><td>1.0</td><td>1.0</td></tr><tr><td>2703451</td><td>0.0</td><td>301276.47</td><td>7088.6</td><td>6191.6</td><td>0.0</td><td>0.0</td><td>5.0</td><td>0.0</td><td>0.0</td><td>5.0</td><td>-18.0</td><td>-12.0</td><td>-18.0</td><td>0.0</td><td>12553.2</td><td>null</td><td>0.0</td><td>105129.31</td><td>15780.4</td><td>&quot;CA&quot;</td><td>null</td><td>0.0</td><td>0.0</td><td>0.0</td><td>0.0</td><td>0.0</td><td>0.0</td><td>0.0</td><td>null</td><td>0.0</td><td>0.0</td><td>0.0</td><td>0.0</td><td>0.0</td><td>0.0</td><td>0.0</td><td>&hellip;</td><td>1.0</td><td>null</td><td>null</td><td>null</td><td>null</td><td>null</td><td>null</td><td>null</td><td>null</td><td>null</td><td>null</td><td>null</td><td>null</td><td>null</td><td>null</td><td>null</td><td>null</td><td>0.0</td><td>&quot;a55475b1&quot;</td><td>&quot;a55475b1&quot;</td><td>0.0</td><td>null</td><td>null</td><td>22904.6</td><td>null</td><td>&quot;12.0&quot;</td><td>null</td><td>null</td><td>null</td><td>null</td><td>null</td><td>null</td><td>&quot;2020-10-19&quot;</td><td>null</td><td>null</td><td>1.0</td><td>2.0</td></tr><tr><td>2703452</td><td>0.0</td><td>14232.4</td><td>7788.8003</td><td>0.0</td><td>0.0</td><td>0.0</td><td>0.0</td><td>0.0</td><td>0.0</td><td>3.0</td><td>-12.0</td><td>null</td><td>-16.0</td><td>1.0</td><td>2662.4001</td><td>null</td><td>null</td><td>null</td><td>1500.6</td><td>&quot;CA&quot;</td><td>null</td><td>0.0</td><td>0.0</td><td>0.0</td><td>0.0</td><td>0.0</td><td>0.0</td><td>0.0</td><td>null</td><td>0.0</td><td>0.0</td><td>0.0</td><td>0.0</td><td>0.0</td><td>0.0</td><td>0.0</td><td>&hellip;</td><td>0.0</td><td>null</td><td>null</td><td>null</td><td>null</td><td>null</td><td>null</td><td>null</td><td>null</td><td>null</td><td>null</td><td>null</td><td>null</td><td>null</td><td>null</td><td>null</td><td>null</td><td>1.0</td><td>&quot;a55475b1&quot;</td><td>&quot;a55475b1&quot;</td><td>3.0</td><td>null</td><td>null</td><td>null</td><td>null</td><td>null</td><td>null</td><td>null</td><td>null</td><td>null</td><td>null</td><td>null</td><td>&quot;2020-10-19&quot;</td><td>null</td><td>null</td><td>0.0</td><td>4.0</td></tr><tr><td>2703453</td><td>0.0</td><td>197371.58</td><td>1195.4</td><td>2827.2</td><td>0.0</td><td>0.0</td><td>36.0</td><td>0.0</td><td>0.0</td><td>9.0</td><td>-33.0</td><td>-64.0</td><td>-34.0</td><td>0.0</td><td>8212.601</td><td>null</td><td>0.0</td><td>47943.062</td><td>9921.2</td><td>&quot;CA&quot;</td><td>null</td><td>0.0</td><td>0.0</td><td>0.0</td><td>0.0</td><td>1.0</td><td>0.0</td><td>0.0</td><td>null</td><td>0.0</td><td>0.0</td><td>6.0</td><td>0.0</td><td>0.0</td><td>0.0</td><td>0.0</td><td>&hellip;</td><td>1.0</td><td>null</td><td>null</td><td>null</td><td>null</td><td>null</td><td>null</td><td>null</td><td>null</td><td>null</td><td>null</td><td>null</td><td>null</td><td>null</td><td>null</td><td>null</td><td>null</td><td>3.0</td><td>&quot;3439d993&quot;</td><td>&quot;a55475b1&quot;</td><td>4.0</td><td>null</td><td>null</td><td>15792.4</td><td>null</td><td>&quot;14.0&quot;</td><td>null</td><td>null</td><td>null</td><td>null</td><td>null</td><td>null</td><td>&quot;2020-10-17&quot;</td><td>null</td><td>null</td><td>2.0</td><td>1.0</td></tr><tr><td>2703454</td><td>0.0</td><td>82949.6</td><td>4533.8003</td><td>2986.8</td><td>0.0</td><td>0.0</td><td>0.0</td><td>0.0</td><td>0.0</td><td>0.0</td><td>-6.0</td><td>-5.0</td><td>-6.0</td><td>0.0</td><td>6405.4</td><td>15998.0</td><td>0.0</td><td>15651.796</td><td>6352.0</td><td>&quot;CA&quot;</td><td>null</td><td>0.0</td><td>0.0</td><td>0.0</td><td>0.0</td><td>0.0</td><td>0.0</td><td>0.0</td><td>null</td><td>0.0</td><td>0.0</td><td>0.0</td><td>0.0</td><td>0.0</td><td>0.0</td><td>0.0</td><td>&hellip;</td><td>0.0</td><td>null</td><td>null</td><td>null</td><td>null</td><td>null</td><td>null</td><td>null</td><td>null</td><td>null</td><td>null</td><td>null</td><td>null</td><td>null</td><td>null</td><td>null</td><td>null</td><td>0.0</td><td>&quot;b6cabe76&quot;</td><td>&quot;a55475b1&quot;</td><td>1.0</td><td>null</td><td>null</td><td>21530.4</td><td>null</td><td>&quot;12.0&quot;</td><td>null</td><td>null</td><td>null</td><td>null</td><td>null</td><td>null</td><td>&quot;2020-10-19&quot;</td><td>null</td><td>null</td><td>2.0</td><td>1.0</td></tr></tbody></table></div>"
      ],
      "text/plain": [
       "shape: (1_526_659, 221)\n",
       "┌─────────┬──────────────┬──────────────┬──────────────┬───┬──────────────┬──────────────┬──────────────┬──────────────┐\n",
       "│ case_id ┆ actualdpdtol ┆ amtinstpaidb ┆ annuity_780A ┆ … ┆ riskassesmen ┆ riskassesmen ┆ secondquarte ┆ thirdquarter │\n",
       "│ ---     ┆ erance_344P  ┆ efduel24m_41 ┆ ---          ┆   ┆ t_302T       ┆ t_940T       ┆ r_766L       ┆ _1082L       │\n",
       "│ i64     ┆ ---          ┆ 87115A       ┆ f64          ┆   ┆ ---          ┆ ---          ┆ ---          ┆ ---          │\n",
       "│         ┆ f64          ┆ ---          ┆              ┆   ┆ str          ┆ f64          ┆ f64          ┆ f64          │\n",
       "│         ┆              ┆ f64          ┆              ┆   ┆              ┆              ┆              ┆              │\n",
       "╞═════════╪══════════════╪══════════════╪══════════════╪═══╪══════════════╪══════════════╪══════════════╪══════════════╡\n",
       "│ 0       ┆ null         ┆ null         ┆ 1917.6       ┆ … ┆ null         ┆ null         ┆ null         ┆ null         │\n",
       "│ 1       ┆ null         ┆ null         ┆ 3134.0       ┆ … ┆ null         ┆ null         ┆ null         ┆ null         │\n",
       "│ 2       ┆ null         ┆ null         ┆ 4937.0       ┆ … ┆ null         ┆ null         ┆ null         ┆ null         │\n",
       "│ 3       ┆ null         ┆ null         ┆ 4643.6       ┆ … ┆ null         ┆ null         ┆ null         ┆ null         │\n",
       "│ 4       ┆ null         ┆ null         ┆ 3390.2       ┆ … ┆ null         ┆ null         ┆ null         ┆ null         │\n",
       "│ …       ┆ …            ┆ …            ┆ …            ┆ … ┆ …            ┆ …            ┆ …            ┆ …            │\n",
       "│ 2703450 ┆ 0.0          ┆ 176561.36    ┆ 3675.4001    ┆ … ┆ null         ┆ null         ┆ 1.0          ┆ 1.0          │\n",
       "│ 2703451 ┆ 0.0          ┆ 301276.47    ┆ 7088.6       ┆ … ┆ null         ┆ null         ┆ 1.0          ┆ 2.0          │\n",
       "│ 2703452 ┆ 0.0          ┆ 14232.4      ┆ 7788.8003    ┆ … ┆ null         ┆ null         ┆ 0.0          ┆ 4.0          │\n",
       "│ 2703453 ┆ 0.0          ┆ 197371.58    ┆ 1195.4       ┆ … ┆ null         ┆ null         ┆ 2.0          ┆ 1.0          │\n",
       "│ 2703454 ┆ 0.0          ┆ 82949.6      ┆ 4533.8003    ┆ … ┆ null         ┆ null         ┆ 2.0          ┆ 1.0          │\n",
       "└─────────┴──────────────┴──────────────┴──────────────┴───┴──────────────┴──────────────┴──────────────┴──────────────┘"
      ]
     },
     "execution_count": 55,
     "metadata": {},
     "output_type": "execute_result"
    }
   ],
   "source": [
    "ts_cb"
   ]
  },
  {
   "cell_type": "code",
   "execution_count": 56,
   "metadata": {},
   "outputs": [],
   "source": [
    "ts = ts_cb"
   ]
  },
  {
   "cell_type": "code",
   "execution_count": 57,
   "metadata": {},
   "outputs": [],
   "source": [
    "train_df, test_df = train_test_split(ts, train_size=0.6, random_state=1)"
   ]
  },
  {
   "cell_type": "code",
   "execution_count": 58,
   "metadata": {},
   "outputs": [
    {
     "name": "stderr",
     "output_type": "stream",
     "text": [
      "C:\\Users\\yaman\\AppData\\Local\\Temp\\ipykernel_2100\\1573512404.py:32: DeprecationWarning: `count` is deprecated. It has been renamed to `len`.\n",
      "  frequency_df = df.group_by(col).count().sort(by='count', descending=True)\n"
     ]
    }
   ],
   "source": [
    "df1, df2 = train_df.pipe(combined_pipes_both,test_df);"
   ]
  },
  {
   "cell_type": "code",
   "execution_count": 59,
   "metadata": {},
   "outputs": [
    {
     "data": {
      "text/html": [
       "<div><style>\n",
       ".dataframe > thead > tr,\n",
       ".dataframe > tbody > tr {\n",
       "  text-align: right;\n",
       "  white-space: pre-wrap;\n",
       "}\n",
       "</style>\n",
       "<small>shape: (915_995, 154)</small><table border=\"1\" class=\"dataframe\"><thead><tr><th>case_id</th><th>actualdpdtolerance_344P</th><th>amtinstpaidbefduel24m_4187115A</th><th>annuity_780A</th><th>annuitynextmonth_57A</th><th>applicationcnt_361L</th><th>applications30d_658L</th><th>applicationscnt_1086L</th><th>applicationscnt_464L</th><th>applicationscnt_867L</th><th>avgdpdtolclosure24_3658938P</th><th>avginstallast24m_3658937A</th><th>avgmaxdpdlast9m_3716943P</th><th>clientscnt12m_3712952L</th><th>clientscnt_100L</th><th>clientscnt_1071L</th><th>clientscnt_1130L</th><th>clientscnt_157L</th><th>clientscnt_257L</th><th>clientscnt_304L</th><th>clientscnt_360L</th><th>clientscnt_493L</th><th>clientscnt_533L</th><th>clientscnt_887L</th><th>clientscnt_946L</th><th>cntincpaycont9m_3716944L</th><th>cntpmts24_3658933L</th><th>credamount_770A</th><th>currdebtcredtyperange_828A</th><th>datefirstoffer_1144D</th><th>datelastunpaid_3546854D</th><th>daysoverduetolerancedd_3976961L</th><th>downpmt_116A</th><th>eir_270L</th><th>firstclxcampaign_1125D</th><th>firstdatedue_489D</th><th>homephncnt_628L</th><th>&hellip;</th><th>lastrejectreason_759M_P94_109_143</th><th>lastrejectreason_759M_a55475b1</th><th>lastrejectreasonclient_4145040M_a55475b1</th><th>lastrejectreasonclient_4145040M_P94_109_143</th><th>lastrejectreasonclient_4145040M_other</th><th>lastst_736L_D</th><th>lastst_736L_other</th><th>lastst_736L_T</th><th>lastst_736L_None</th><th>lastst_736L_A</th><th>lastst_736L_K</th><th>previouscontdistrict_112M_P197_47_166</th><th>previouscontdistrict_112M_a55475b1</th><th>previouscontdistrict_112M_P131_33_167</th><th>previouscontdistrict_112M_other</th><th>description_5085714M_a55475b1</th><th>description_5085714M_None</th><th>description_5085714M_2fc785b2</th><th>education_1103M_6b2ae0fa</th><th>education_1103M_717ddd49</th><th>education_1103M_None</th><th>education_1103M_a55475b1</th><th>education_1103M_other</th><th>maritalst_385M_other</th><th>maritalst_385M_3439d993</th><th>maritalst_385M_a55475b1</th><th>maritalst_385M_None</th><th>maritalst_385M_a7fcb6e5</th><th>requesttype_4525192L_other</th><th>requesttype_4525192L_PENSION_6</th><th>requesttype_4525192L_None</th><th>requesttype_4525192L_DEDUCTION_6</th><th>isbidproduct_1095L_False</th><th>isbidproduct_1095L_True</th><th>opencred_647L_False</th><th>opencred_647L_None</th><th>opencred_647L_True</th></tr><tr><td>i64</td><td>f64</td><td>f64</td><td>f64</td><td>f64</td><td>f64</td><td>f64</td><td>f64</td><td>f64</td><td>f64</td><td>f64</td><td>f64</td><td>f64</td><td>f64</td><td>f64</td><td>f64</td><td>f64</td><td>f64</td><td>f64</td><td>f64</td><td>f64</td><td>f64</td><td>f64</td><td>f64</td><td>f64</td><td>f64</td><td>f64</td><td>f64</td><td>f64</td><td>i64</td><td>i64</td><td>f64</td><td>f64</td><td>f64</td><td>i64</td><td>i64</td><td>f64</td><td>&hellip;</td><td>i32</td><td>i32</td><td>i32</td><td>i32</td><td>i32</td><td>i32</td><td>i32</td><td>i32</td><td>i32</td><td>i32</td><td>i32</td><td>i32</td><td>i32</td><td>i32</td><td>i32</td><td>i32</td><td>i32</td><td>i32</td><td>i32</td><td>i32</td><td>i32</td><td>i32</td><td>i32</td><td>i32</td><td>i32</td><td>i32</td><td>i32</td><td>i32</td><td>i32</td><td>i32</td><td>i32</td><td>i32</td><td>i32</td><td>i32</td><td>i32</td><td>i32</td><td>i32</td></tr></thead><tbody><tr><td>1634941</td><td>-0.00663</td><td>-0.357659</td><td>-0.639665</td><td>-0.511118</td><td>-0.00159</td><td>-0.284331</td><td>-0.141311</td><td>-0.110718</td><td>-0.203828</td><td>-0.143455</td><td>-0.599751</td><td>-0.154994</td><td>-0.049361</td><td>-0.105379</td><td>-0.178587</td><td>-0.122337</td><td>-0.09899</td><td>-0.051145</td><td>-0.068424</td><td>-0.050928</td><td>-0.016045</td><td>-0.268305</td><td>-0.060627</td><td>-0.106447</td><td>-0.193459</td><td>1.314976</td><td>-0.873039</td><td>-0.299082</td><td>13029</td><td>14990</td><td>-0.168819</td><td>-0.134165</td><td>0.62535</td><td>14701</td><td>11816</td><td>0.429246</td><td>&hellip;</td><td>0</td><td>1</td><td>1</td><td>0</td><td>0</td><td>0</td><td>0</td><td>0</td><td>0</td><td>0</td><td>1</td><td>0</td><td>0</td><td>0</td><td>1</td><td>1</td><td>0</td><td>0</td><td>0</td><td>1</td><td>0</td><td>0</td><td>0</td><td>0</td><td>1</td><td>0</td><td>0</td><td>0</td><td>0</td><td>0</td><td>0</td><td>1</td><td>1</td><td>0</td><td>1</td><td>0</td><td>0</td></tr><tr><td>250989</td><td>-0.00663</td><td>-0.567268</td><td>0.310082</td><td>0.854127</td><td>-0.00159</td><td>-0.284331</td><td>-0.141311</td><td>-0.110718</td><td>-0.203828</td><td>-0.143455</td><td>-0.237808</td><td>-0.154994</td><td>-0.049361</td><td>-0.105379</td><td>-0.178587</td><td>-0.122337</td><td>-0.09899</td><td>-0.051145</td><td>-0.068424</td><td>-0.050928</td><td>-0.016045</td><td>-0.268305</td><td>-0.060627</td><td>-0.106447</td><td>-0.193459</td><td>-0.714512</td><td>0.681374</td><td>1.677695</td><td>14979</td><td>15923</td><td>-0.2001</td><td>-0.134165</td><td>0.875876</td><td>16424</td><td>24983</td><td>-0.748928</td><td>&hellip;</td><td>0</td><td>0</td><td>0</td><td>0</td><td>1</td><td>1</td><td>0</td><td>0</td><td>0</td><td>0</td><td>0</td><td>0</td><td>0</td><td>0</td><td>1</td><td>0</td><td>0</td><td>1</td><td>0</td><td>0</td><td>0</td><td>1</td><td>0</td><td>0</td><td>1</td><td>0</td><td>0</td><td>0</td><td>0</td><td>0</td><td>1</td><td>0</td><td>0</td><td>1</td><td>1</td><td>0</td><td>0</td></tr><tr><td>1493791</td><td>-0.00663</td><td>-0.78141</td><td>0.143181</td><td>-0.511118</td><td>-0.00159</td><td>-0.284331</td><td>-0.141311</td><td>-0.110718</td><td>0.257655</td><td>-0.143455</td><td>-0.0</td><td>0.0</td><td>-0.049361</td><td>-0.105379</td><td>-0.178587</td><td>-0.122337</td><td>-0.09899</td><td>-0.051145</td><td>-0.068424</td><td>-0.050928</td><td>-0.016045</td><td>-0.268305</td><td>-0.060627</td><td>-0.106447</td><td>-1.002024</td><td>-1.348726</td><td>0.084909</td><td>-0.299082</td><td>9043</td><td>11369</td><td>-0.179246</td><td>-0.134165</td><td>0.789837</td><td>11917</td><td>10550</td><td>-0.748928</td><td>&hellip;</td><td>0</td><td>1</td><td>1</td><td>0</td><td>0</td><td>1</td><td>0</td><td>0</td><td>0</td><td>0</td><td>0</td><td>0</td><td>0</td><td>1</td><td>0</td><td>1</td><td>0</td><td>0</td><td>1</td><td>0</td><td>0</td><td>0</td><td>0</td><td>0</td><td>1</td><td>0</td><td>0</td><td>0</td><td>0</td><td>0</td><td>1</td><td>0</td><td>1</td><td>0</td><td>1</td><td>0</td><td>0</td></tr><tr><td>962173</td><td>0.0</td><td>-0.0</td><td>0.155515</td><td>-0.511118</td><td>-0.00159</td><td>-0.284331</td><td>-0.141311</td><td>-0.110718</td><td>-0.43457</td><td>0.0</td><td>-0.0</td><td>0.0</td><td>-0.049361</td><td>-0.105379</td><td>-0.178587</td><td>-0.122337</td><td>1.145629</td><td>-0.051145</td><td>-0.068424</td><td>-0.050928</td><td>-0.016045</td><td>3.278097</td><td>-0.060627</td><td>-0.106447</td><td>-0.0</td><td>0.0</td><td>0.572685</td><td>-0.299082</td><td>14979</td><td>15923</td><td>-0.0</td><td>-0.134165</td><td>-0.0</td><td>16424</td><td>14805</td><td>-0.748928</td><td>&hellip;</td><td>0</td><td>0</td><td>0</td><td>1</td><td>0</td><td>1</td><td>0</td><td>0</td><td>0</td><td>0</td><td>0</td><td>0</td><td>1</td><td>0</td><td>0</td><td>1</td><td>0</td><td>0</td><td>0</td><td>0</td><td>0</td><td>0</td><td>1</td><td>0</td><td>0</td><td>0</td><td>0</td><td>1</td><td>0</td><td>0</td><td>0</td><td>1</td><td>1</td><td>0</td><td>1</td><td>0</td><td>0</td></tr><tr><td>1531261</td><td>-0.00663</td><td>-0.78141</td><td>-0.220922</td><td>-0.511118</td><td>-0.00159</td><td>-0.284331</td><td>-0.141311</td><td>-0.110718</td><td>-0.665312</td><td>1.689649</td><td>-0.0</td><td>0.0</td><td>-0.049361</td><td>-0.105379</td><td>-0.178587</td><td>-0.122337</td><td>-0.09899</td><td>-0.051145</td><td>-0.068424</td><td>-0.050928</td><td>-0.016045</td><td>-0.268305</td><td>-0.060627</td><td>-0.106447</td><td>-1.002024</td><td>-1.348726</td><td>-0.696783</td><td>-0.299082</td><td>10528</td><td>10926</td><td>1.238806</td><td>-0.134165</td><td>-1.401631</td><td>16424</td><td>10776</td><td>-0.748928</td><td>&hellip;</td><td>1</td><td>0</td><td>0</td><td>1</td><td>0</td><td>1</td><td>0</td><td>0</td><td>0</td><td>0</td><td>0</td><td>0</td><td>1</td><td>0</td><td>0</td><td>1</td><td>0</td><td>0</td><td>1</td><td>0</td><td>0</td><td>0</td><td>0</td><td>0</td><td>1</td><td>0</td><td>0</td><td>0</td><td>0</td><td>0</td><td>0</td><td>1</td><td>1</td><td>0</td><td>1</td><td>0</td><td>0</td></tr><tr><td>&hellip;</td><td>&hellip;</td><td>&hellip;</td><td>&hellip;</td><td>&hellip;</td><td>&hellip;</td><td>&hellip;</td><td>&hellip;</td><td>&hellip;</td><td>&hellip;</td><td>&hellip;</td><td>&hellip;</td><td>&hellip;</td><td>&hellip;</td><td>&hellip;</td><td>&hellip;</td><td>&hellip;</td><td>&hellip;</td><td>&hellip;</td><td>&hellip;</td><td>&hellip;</td><td>&hellip;</td><td>&hellip;</td><td>&hellip;</td><td>&hellip;</td><td>&hellip;</td><td>&hellip;</td><td>&hellip;</td><td>&hellip;</td><td>&hellip;</td><td>&hellip;</td><td>&hellip;</td><td>&hellip;</td><td>&hellip;</td><td>&hellip;</td><td>&hellip;</td><td>&hellip;</td><td>&hellip;</td><td>&hellip;</td><td>&hellip;</td><td>&hellip;</td><td>&hellip;</td><td>&hellip;</td><td>&hellip;</td><td>&hellip;</td><td>&hellip;</td><td>&hellip;</td><td>&hellip;</td><td>&hellip;</td><td>&hellip;</td><td>&hellip;</td><td>&hellip;</td><td>&hellip;</td><td>&hellip;</td><td>&hellip;</td><td>&hellip;</td><td>&hellip;</td><td>&hellip;</td><td>&hellip;</td><td>&hellip;</td><td>&hellip;</td><td>&hellip;</td><td>&hellip;</td><td>&hellip;</td><td>&hellip;</td><td>&hellip;</td><td>&hellip;</td><td>&hellip;</td><td>&hellip;</td><td>&hellip;</td><td>&hellip;</td><td>&hellip;</td><td>&hellip;</td><td>&hellip;</td><td>&hellip;</td></tr><tr><td>1646311</td><td>-0.00663</td><td>3.158249</td><td>-0.655579</td><td>2.116045</td><td>-0.00159</td><td>1.770468</td><td>-0.141311</td><td>-0.110718</td><td>0.257655</td><td>-0.1403</td><td>0.387827</td><td>0.258891</td><td>-0.049361</td><td>-0.105379</td><td>-0.178587</td><td>-0.122337</td><td>-0.09899</td><td>-0.051145</td><td>-0.068424</td><td>-0.050928</td><td>-0.016045</td><td>-0.268305</td><td>-0.060627</td><td>-0.106447</td><td>1.747096</td><td>1.441819</td><td>-0.60048</td><td>-0.299082</td><td>8822</td><td>9172</td><td>-0.191758</td><td>-0.134165</td><td>0.774654</td><td>8869</td><td>8451</td><td>-0.748928</td><td>&hellip;</td><td>0</td><td>0</td><td>0</td><td>1</td><td>0</td><td>0</td><td>0</td><td>0</td><td>0</td><td>1</td><td>0</td><td>0</td><td>0</td><td>0</td><td>1</td><td>1</td><td>0</td><td>0</td><td>1</td><td>0</td><td>0</td><td>0</td><td>0</td><td>0</td><td>0</td><td>0</td><td>0</td><td>1</td><td>0</td><td>0</td><td>0</td><td>1</td><td>1</td><td>0</td><td>1</td><td>0</td><td>0</td></tr><tr><td>1301085</td><td>-0.00663</td><td>-0.0</td><td>-0.812334</td><td>0.863094</td><td>-0.00159</td><td>-0.284331</td><td>-0.141311</td><td>-0.110718</td><td>-0.665312</td><td>-0.1403</td><td>-0.233993</td><td>0.051948</td><td>-0.049361</td><td>-0.105379</td><td>-0.178587</td><td>-0.122337</td><td>-0.09899</td><td>-0.051145</td><td>-0.068424</td><td>-0.050928</td><td>-0.016045</td><td>-0.268305</td><td>-0.060627</td><td>-0.106447</td><td>0.615106</td><td>1.695505</td><td>-0.955064</td><td>-0.299082</td><td>12142</td><td>16253</td><td>-0.187588</td><td>-0.134165</td><td>0.875876</td><td>15158</td><td>12125</td><td>5.141943</td><td>&hellip;</td><td>0</td><td>1</td><td>1</td><td>0</td><td>0</td><td>0</td><td>0</td><td>0</td><td>0</td><td>1</td><td>0</td><td>0</td><td>0</td><td>0</td><td>1</td><td>1</td><td>0</td><td>0</td><td>0</td><td>1</td><td>0</td><td>0</td><td>0</td><td>0</td><td>1</td><td>0</td><td>0</td><td>0</td><td>0</td><td>0</td><td>1</td><td>0</td><td>1</td><td>0</td><td>1</td><td>0</td><td>0</td></tr><tr><td>1280746</td><td>-0.00663</td><td>-0.0</td><td>0.083835</td><td>-0.511118</td><td>-0.00159</td><td>-0.284331</td><td>-0.141311</td><td>-0.110718</td><td>0.026913</td><td>-0.143455</td><td>-0.053112</td><td>-0.154994</td><td>-0.049361</td><td>-0.105379</td><td>-0.178587</td><td>-0.122337</td><td>-0.09899</td><td>-0.051145</td><td>-0.068424</td><td>-0.050928</td><td>-0.016045</td><td>-0.268305</td><td>-0.060627</td><td>-0.106447</td><td>0.776819</td><td>0.807604</td><td>-0.595184</td><td>-0.299082</td><td>14979</td><td>14793</td><td>-0.198014</td><td>-0.134165</td><td>-1.401631</td><td>16424</td><td>14793</td><td>-0.748928</td><td>&hellip;</td><td>0</td><td>1</td><td>1</td><td>0</td><td>0</td><td>0</td><td>0</td><td>0</td><td>0</td><td>1</td><td>0</td><td>0</td><td>0</td><td>0</td><td>1</td><td>1</td><td>0</td><td>0</td><td>1</td><td>0</td><td>0</td><td>0</td><td>0</td><td>0</td><td>1</td><td>0</td><td>0</td><td>0</td><td>0</td><td>0</td><td>1</td><td>0</td><td>1</td><td>0</td><td>1</td><td>0</td><td>0</td></tr><tr><td>1301577</td><td>-0.00663</td><td>-0.0</td><td>-0.360968</td><td>0.661847</td><td>-0.00159</td><td>-0.284331</td><td>-0.141311</td><td>-0.110718</td><td>0.026913</td><td>-0.143455</td><td>0.463462</td><td>-0.154994</td><td>-0.049361</td><td>-0.105379</td><td>5.135191</td><td>-0.122337</td><td>-0.09899</td><td>-0.051145</td><td>-0.068424</td><td>-0.050928</td><td>-0.016045</td><td>-0.268305</td><td>-0.060627</td><td>-0.106447</td><td>4.334503</td><td>0.300232</td><td>-0.328284</td><td>-0.210505</td><td>14979</td><td>13703</td><td>-0.191758</td><td>-0.134165</td><td>0.789837</td><td>16424</td><td>13366</td><td>0.429246</td><td>&hellip;</td><td>0</td><td>1</td><td>1</td><td>0</td><td>0</td><td>0</td><td>0</td><td>0</td><td>0</td><td>0</td><td>1</td><td>0</td><td>0</td><td>0</td><td>1</td><td>1</td><td>0</td><td>0</td><td>0</td><td>1</td><td>0</td><td>0</td><td>0</td><td>0</td><td>1</td><td>0</td><td>0</td><td>0</td><td>0</td><td>0</td><td>1</td><td>0</td><td>1</td><td>0</td><td>1</td><td>0</td><td>0</td></tr><tr><td>603085</td><td>0.0</td><td>-0.0</td><td>-0.484568</td><td>-0.511118</td><td>-0.00159</td><td>-0.284331</td><td>-0.141311</td><td>-0.110718</td><td>-0.665312</td><td>0.0</td><td>-0.0</td><td>0.0</td><td>-0.049361</td><td>-0.105379</td><td>-0.178587</td><td>-0.122337</td><td>-0.09899</td><td>-0.051145</td><td>-0.068424</td><td>-0.050928</td><td>-0.016045</td><td>-0.268305</td><td>-0.060627</td><td>-0.106447</td><td>-0.0</td><td>0.0</td><td>-0.098417</td><td>-0.299082</td><td>14979</td><td>15923</td><td>-0.0</td><td>-0.134165</td><td>-1.401631</td><td>16424</td><td>14805</td><td>-0.748928</td><td>&hellip;</td><td>0</td><td>1</td><td>1</td><td>0</td><td>0</td><td>0</td><td>0</td><td>0</td><td>1</td><td>0</td><td>0</td><td>0</td><td>1</td><td>0</td><td>0</td><td>0</td><td>1</td><td>0</td><td>0</td><td>0</td><td>1</td><td>0</td><td>0</td><td>0</td><td>0</td><td>0</td><td>1</td><td>0</td><td>0</td><td>0</td><td>1</td><td>0</td><td>1</td><td>0</td><td>0</td><td>1</td><td>0</td></tr></tbody></table></div>"
      ],
      "text/plain": [
       "shape: (915_995, 154)\n",
       "┌─────────┬──────────────┬──────────────┬──────────────┬───┬──────────────┬──────────────┬──────────────┬──────────────┐\n",
       "│ case_id ┆ actualdpdtol ┆ amtinstpaidb ┆ annuity_780A ┆ … ┆ isbidproduct ┆ opencred_647 ┆ opencred_647 ┆ opencred_647 │\n",
       "│ ---     ┆ erance_344P  ┆ efduel24m_41 ┆ ---          ┆   ┆ _1095L_True  ┆ L_False      ┆ L_None       ┆ L_True       │\n",
       "│ i64     ┆ ---          ┆ 87115A       ┆ f64          ┆   ┆ ---          ┆ ---          ┆ ---          ┆ ---          │\n",
       "│         ┆ f64          ┆ ---          ┆              ┆   ┆ i32          ┆ i32          ┆ i32          ┆ i32          │\n",
       "│         ┆              ┆ f64          ┆              ┆   ┆              ┆              ┆              ┆              │\n",
       "╞═════════╪══════════════╪══════════════╪══════════════╪═══╪══════════════╪══════════════╪══════════════╪══════════════╡\n",
       "│ 1634941 ┆ -0.00663     ┆ -0.357659    ┆ -0.639665    ┆ … ┆ 0            ┆ 1            ┆ 0            ┆ 0            │\n",
       "│ 250989  ┆ -0.00663     ┆ -0.567268    ┆ 0.310082     ┆ … ┆ 1            ┆ 1            ┆ 0            ┆ 0            │\n",
       "│ 1493791 ┆ -0.00663     ┆ -0.78141     ┆ 0.143181     ┆ … ┆ 0            ┆ 1            ┆ 0            ┆ 0            │\n",
       "│ 962173  ┆ 0.0          ┆ -0.0         ┆ 0.155515     ┆ … ┆ 0            ┆ 1            ┆ 0            ┆ 0            │\n",
       "│ 1531261 ┆ -0.00663     ┆ -0.78141     ┆ -0.220922    ┆ … ┆ 0            ┆ 1            ┆ 0            ┆ 0            │\n",
       "│ …       ┆ …            ┆ …            ┆ …            ┆ … ┆ …            ┆ …            ┆ …            ┆ …            │\n",
       "│ 1646311 ┆ -0.00663     ┆ 3.158249     ┆ -0.655579    ┆ … ┆ 0            ┆ 1            ┆ 0            ┆ 0            │\n",
       "│ 1301085 ┆ -0.00663     ┆ -0.0         ┆ -0.812334    ┆ … ┆ 0            ┆ 1            ┆ 0            ┆ 0            │\n",
       "│ 1280746 ┆ -0.00663     ┆ -0.0         ┆ 0.083835     ┆ … ┆ 0            ┆ 1            ┆ 0            ┆ 0            │\n",
       "│ 1301577 ┆ -0.00663     ┆ -0.0         ┆ -0.360968    ┆ … ┆ 0            ┆ 1            ┆ 0            ┆ 0            │\n",
       "│ 603085  ┆ 0.0          ┆ -0.0         ┆ -0.484568    ┆ … ┆ 0            ┆ 0            ┆ 1            ┆ 0            │\n",
       "└─────────┴──────────────┴──────────────┴──────────────┴───┴──────────────┴──────────────┴──────────────┴──────────────┘"
      ]
     },
     "execution_count": 59,
     "metadata": {},
     "output_type": "execute_result"
    }
   ],
   "source": [
    "df1"
   ]
  },
  {
   "cell_type": "code",
   "execution_count": 60,
   "metadata": {},
   "outputs": [
    {
     "data": {
      "text/html": [
       "<div><style>\n",
       ".dataframe > thead > tr,\n",
       ".dataframe > tbody > tr {\n",
       "  text-align: right;\n",
       "  white-space: pre-wrap;\n",
       "}\n",
       "</style>\n",
       "<small>shape: (610_664, 154)</small><table border=\"1\" class=\"dataframe\"><thead><tr><th>case_id</th><th>actualdpdtolerance_344P</th><th>amtinstpaidbefduel24m_4187115A</th><th>annuity_780A</th><th>annuitynextmonth_57A</th><th>applicationcnt_361L</th><th>applications30d_658L</th><th>applicationscnt_1086L</th><th>applicationscnt_464L</th><th>applicationscnt_867L</th><th>avgdpdtolclosure24_3658938P</th><th>avginstallast24m_3658937A</th><th>avgmaxdpdlast9m_3716943P</th><th>clientscnt12m_3712952L</th><th>clientscnt_100L</th><th>clientscnt_1071L</th><th>clientscnt_1130L</th><th>clientscnt_157L</th><th>clientscnt_257L</th><th>clientscnt_304L</th><th>clientscnt_360L</th><th>clientscnt_493L</th><th>clientscnt_533L</th><th>clientscnt_887L</th><th>clientscnt_946L</th><th>cntincpaycont9m_3716944L</th><th>cntpmts24_3658933L</th><th>credamount_770A</th><th>currdebtcredtyperange_828A</th><th>datefirstoffer_1144D</th><th>datelastunpaid_3546854D</th><th>daysoverduetolerancedd_3976961L</th><th>downpmt_116A</th><th>eir_270L</th><th>firstclxcampaign_1125D</th><th>firstdatedue_489D</th><th>homephncnt_628L</th><th>&hellip;</th><th>lastrejectreason_759M_P94_109_143</th><th>lastrejectreason_759M_a55475b1</th><th>lastrejectreasonclient_4145040M_a55475b1</th><th>lastrejectreasonclient_4145040M_P94_109_143</th><th>lastrejectreasonclient_4145040M_other</th><th>lastst_736L_D</th><th>lastst_736L_other</th><th>lastst_736L_T</th><th>lastst_736L_None</th><th>lastst_736L_A</th><th>lastst_736L_K</th><th>previouscontdistrict_112M_P197_47_166</th><th>previouscontdistrict_112M_a55475b1</th><th>previouscontdistrict_112M_P131_33_167</th><th>previouscontdistrict_112M_other</th><th>description_5085714M_a55475b1</th><th>description_5085714M_None</th><th>description_5085714M_2fc785b2</th><th>education_1103M_6b2ae0fa</th><th>education_1103M_717ddd49</th><th>education_1103M_None</th><th>education_1103M_a55475b1</th><th>education_1103M_other</th><th>maritalst_385M_other</th><th>maritalst_385M_3439d993</th><th>maritalst_385M_a55475b1</th><th>maritalst_385M_None</th><th>maritalst_385M_a7fcb6e5</th><th>requesttype_4525192L_other</th><th>requesttype_4525192L_PENSION_6</th><th>requesttype_4525192L_None</th><th>requesttype_4525192L_DEDUCTION_6</th><th>isbidproduct_1095L_False</th><th>isbidproduct_1095L_True</th><th>opencred_647L_False</th><th>opencred_647L_None</th><th>opencred_647L_True</th></tr><tr><td>f64</td><td>f64</td><td>f64</td><td>f64</td><td>f64</td><td>f64</td><td>f64</td><td>f64</td><td>f64</td><td>f64</td><td>f64</td><td>f64</td><td>f64</td><td>f64</td><td>f64</td><td>f64</td><td>f64</td><td>f64</td><td>f64</td><td>f64</td><td>f64</td><td>f64</td><td>f64</td><td>f64</td><td>f64</td><td>f64</td><td>f64</td><td>f64</td><td>f64</td><td>f64</td><td>f64</td><td>f64</td><td>f64</td><td>f64</td><td>f64</td><td>f64</td><td>f64</td><td>&hellip;</td><td>f64</td><td>f64</td><td>f64</td><td>f64</td><td>f64</td><td>f64</td><td>f64</td><td>f64</td><td>f64</td><td>f64</td><td>f64</td><td>f64</td><td>f64</td><td>f64</td><td>f64</td><td>f64</td><td>f64</td><td>f64</td><td>f64</td><td>f64</td><td>f64</td><td>f64</td><td>f64</td><td>f64</td><td>f64</td><td>f64</td><td>f64</td><td>f64</td><td>f64</td><td>f64</td><td>f64</td><td>f64</td><td>f64</td><td>f64</td><td>f64</td><td>f64</td><td>f64</td></tr></thead><tbody><tr><td>1.819929e6</td><td>-0.007769</td><td>-0.153023</td><td>-0.947166</td><td>0.082766</td><td>-0.00378</td><td>1.753668</td><td>-0.12858</td><td>-0.110188</td><td>0.486593</td><td>-0.141226</td><td>-0.139091</td><td>0.054296</td><td>-0.044309</td><td>-0.132659</td><td>-0.176176</td><td>-0.127745</td><td>-0.108167</td><td>-0.046637</td><td>-0.053731</td><td>-0.049672</td><td>-0.010019</td><td>-0.266548</td><td>-0.059825</td><td>-0.109317</td><td>-0.352623</td><td>-0.206065</td><td>-0.675158</td><td>-0.29861</td><td>15596.0</td><td>15571.0</td><td>-0.194163</td><td>-0.135527</td><td>-0.0</td><td>15666.0</td><td>14875.0</td><td>-0.749029</td><td>&hellip;</td><td>0.0</td><td>1.0</td><td>1.0</td><td>0.0</td><td>0.0</td><td>0.0</td><td>0.0</td><td>1.0</td><td>0.0</td><td>0.0</td><td>0.0</td><td>0.0</td><td>0.0</td><td>0.0</td><td>1.0</td><td>1.0</td><td>0.0</td><td>0.0</td><td>0.0</td><td>0.0</td><td>0.0</td><td>1.0</td><td>0.0</td><td>0.0</td><td>0.0</td><td>1.0</td><td>0.0</td><td>0.0</td><td>0.0</td><td>0.0</td><td>0.0</td><td>1.0</td><td>1.0</td><td>0.0</td><td>0.0</td><td>0.0</td><td>1.0</td></tr><tr><td>698266.0</td><td>0.0</td><td>-0.0</td><td>-0.346069</td><td>-0.512061</td><td>-0.00378</td><td>-0.280322</td><td>-0.12858</td><td>-0.110188</td><td>-0.658794</td><td>0.0</td><td>-0.0</td><td>0.0</td><td>-0.044309</td><td>-0.132659</td><td>-0.176176</td><td>-0.127745</td><td>-0.108167</td><td>-0.046637</td><td>-0.053731</td><td>-0.049672</td><td>-0.010019</td><td>-0.266548</td><td>-0.059825</td><td>-0.109317</td><td>-0.0</td><td>0.0</td><td>0.003227</td><td>-0.29861</td><td>14979.121456</td><td>15923.181599</td><td>-0.0</td><td>2.327825</td><td>-0.0</td><td>16424.281045</td><td>14805.119086</td><td>-0.749029</td><td>&hellip;</td><td>0.0</td><td>1.0</td><td>1.0</td><td>0.0</td><td>0.0</td><td>0.0</td><td>0.0</td><td>0.0</td><td>1.0</td><td>0.0</td><td>0.0</td><td>0.0</td><td>1.0</td><td>0.0</td><td>0.0</td><td>1.0</td><td>0.0</td><td>0.0</td><td>0.0</td><td>0.0</td><td>0.0</td><td>1.0</td><td>0.0</td><td>0.0</td><td>0.0</td><td>1.0</td><td>0.0</td><td>0.0</td><td>0.0</td><td>0.0</td><td>1.0</td><td>0.0</td><td>1.0</td><td>0.0</td><td>0.0</td><td>1.0</td><td>0.0</td></tr><tr><td>2.634185e6</td><td>-0.007769</td><td>1.048701</td><td>0.657073</td><td>-0.512061</td><td>-0.00378</td><td>5.821647</td><td>-0.12858</td><td>-0.110188</td><td>2.777367</td><td>-0.144343</td><td>0.493733</td><td>-0.156573</td><td>-0.044309</td><td>-0.132659</td><td>-0.176176</td><td>-0.127745</td><td>-0.108167</td><td>-0.046637</td><td>-0.053731</td><td>-0.049672</td><td>-0.010019</td><td>3.275727</td><td>0.071444</td><td>-0.109317</td><td>0.293772</td><td>0.807133</td><td>1.135363</td><td>-0.29861</td><td>10488.0</td><td>12094.0</td><td>-0.198296</td><td>-0.135527</td><td>-0.0</td><td>11353.0</td><td>10274.0</td><td>0.428948</td><td>&hellip;</td><td>1.0</td><td>0.0</td><td>0.0</td><td>1.0</td><td>0.0</td><td>0.0</td><td>0.0</td><td>1.0</td><td>0.0</td><td>0.0</td><td>0.0</td><td>0.0</td><td>0.0</td><td>0.0</td><td>1.0</td><td>1.0</td><td>0.0</td><td>0.0</td><td>0.0</td><td>0.0</td><td>0.0</td><td>1.0</td><td>0.0</td><td>0.0</td><td>1.0</td><td>0.0</td><td>0.0</td><td>0.0</td><td>0.0</td><td>0.0</td><td>0.0</td><td>1.0</td><td>0.0</td><td>1.0</td><td>1.0</td><td>0.0</td><td>0.0</td></tr><tr><td>116564.0</td><td>-0.007769</td><td>-0.0949</td><td>0.733539</td><td>1.240371</td><td>-0.00378</td><td>-0.280322</td><td>0.473185</td><td>-0.110188</td><td>-0.429717</td><td>-0.144343</td><td>-0.075123</td><td>-0.156573</td><td>-0.044309</td><td>-0.132659</td><td>-0.176176</td><td>-0.127745</td><td>-0.108167</td><td>-0.046637</td><td>-0.053731</td><td>-0.049672</td><td>-0.010019</td><td>-0.266548</td><td>-0.033571</td><td>-0.109317</td><td>0.61697</td><td>-0.079415</td><td>0.682744</td><td>-0.29861</td><td>8277.0</td><td>15923.181599</td><td>-0.200362</td><td>-0.135527</td><td>0.874235</td><td>8857.0</td><td>8119.0</td><td>0.428948</td><td>&hellip;</td><td>0.0</td><td>1.0</td><td>1.0</td><td>0.0</td><td>0.0</td><td>0.0</td><td>0.0</td><td>0.0</td><td>0.0</td><td>1.0</td><td>0.0</td><td>0.0</td><td>0.0</td><td>0.0</td><td>1.0</td><td>1.0</td><td>0.0</td><td>0.0</td><td>1.0</td><td>0.0</td><td>0.0</td><td>0.0</td><td>0.0</td><td>0.0</td><td>1.0</td><td>0.0</td><td>0.0</td><td>0.0</td><td>0.0</td><td>0.0</td><td>1.0</td><td>0.0</td><td>1.0</td><td>0.0</td><td>1.0</td><td>0.0</td><td>0.0</td></tr><tr><td>1.852036e6</td><td>-0.007769</td><td>1.044794</td><td>0.952241</td><td>3.726754</td><td>-0.00378</td><td>1.753668</td><td>-0.12858</td><td>-0.110188</td><td>1.861058</td><td>-0.144343</td><td>0.403436</td><td>-0.156573</td><td>-0.044309</td><td>-0.132659</td><td>-0.176176</td><td>-0.127745</td><td>-0.108167</td><td>-0.046637</td><td>-0.053731</td><td>-0.049672</td><td>-0.010019</td><td>-0.266548</td><td>-0.059825</td><td>-0.109317</td><td>0.940167</td><td>0.553833</td><td>0.45639</td><td>3.022331</td><td>15932.0</td><td>19861.0</td><td>-0.125973</td><td>-0.135527</td><td>-1.404718</td><td>16424.281045</td><td>15758.0</td><td>2.784902</td><td>&hellip;</td><td>0.0</td><td>0.0</td><td>0.0</td><td>1.0</td><td>0.0</td><td>0.0</td><td>0.0</td><td>0.0</td><td>0.0</td><td>1.0</td><td>0.0</td><td>0.0</td><td>0.0</td><td>0.0</td><td>1.0</td><td>1.0</td><td>0.0</td><td>0.0</td><td>1.0</td><td>0.0</td><td>0.0</td><td>0.0</td><td>0.0</td><td>0.0</td><td>0.0</td><td>0.0</td><td>0.0</td><td>1.0</td><td>0.0</td><td>0.0</td><td>1.0</td><td>0.0</td><td>1.0</td><td>0.0</td><td>1.0</td><td>0.0</td><td>0.0</td></tr><tr><td>&hellip;</td><td>&hellip;</td><td>&hellip;</td><td>&hellip;</td><td>&hellip;</td><td>&hellip;</td><td>&hellip;</td><td>&hellip;</td><td>&hellip;</td><td>&hellip;</td><td>&hellip;</td><td>&hellip;</td><td>&hellip;</td><td>&hellip;</td><td>&hellip;</td><td>&hellip;</td><td>&hellip;</td><td>&hellip;</td><td>&hellip;</td><td>&hellip;</td><td>&hellip;</td><td>&hellip;</td><td>&hellip;</td><td>&hellip;</td><td>&hellip;</td><td>&hellip;</td><td>&hellip;</td><td>&hellip;</td><td>&hellip;</td><td>&hellip;</td><td>&hellip;</td><td>&hellip;</td><td>&hellip;</td><td>&hellip;</td><td>&hellip;</td><td>&hellip;</td><td>&hellip;</td><td>&hellip;</td><td>&hellip;</td><td>&hellip;</td><td>&hellip;</td><td>&hellip;</td><td>&hellip;</td><td>&hellip;</td><td>&hellip;</td><td>&hellip;</td><td>&hellip;</td><td>&hellip;</td><td>&hellip;</td><td>&hellip;</td><td>&hellip;</td><td>&hellip;</td><td>&hellip;</td><td>&hellip;</td><td>&hellip;</td><td>&hellip;</td><td>&hellip;</td><td>&hellip;</td><td>&hellip;</td><td>&hellip;</td><td>&hellip;</td><td>&hellip;</td><td>&hellip;</td><td>&hellip;</td><td>&hellip;</td><td>&hellip;</td><td>&hellip;</td><td>&hellip;</td><td>&hellip;</td><td>&hellip;</td><td>&hellip;</td><td>&hellip;</td><td>&hellip;</td><td>&hellip;</td><td>&hellip;</td></tr><tr><td>1.325942e6</td><td>-0.007769</td><td>0.092114</td><td>-0.987671</td><td>-0.512061</td><td>-0.00378</td><td>-0.280322</td><td>-0.12858</td><td>0.413393</td><td>-0.429717</td><td>-0.144343</td><td>-0.091357</td><td>-0.156573</td><td>-0.044309</td><td>-0.132659</td><td>-0.176176</td><td>-0.127745</td><td>-0.108167</td><td>-0.046637</td><td>-0.053731</td><td>-0.049672</td><td>-0.010019</td><td>-0.266548</td><td>-0.033571</td><td>-0.109317</td><td>-0.029425</td><td>-0.206065</td><td>-0.720873</td><td>-0.29861</td><td>8559.0</td><td>15923.181599</td><td>-0.198296</td><td>1.342484</td><td>-0.0</td><td>8559.0</td><td>8349.0</td><td>-0.749029</td><td>&hellip;</td><td>0.0</td><td>1.0</td><td>1.0</td><td>0.0</td><td>0.0</td><td>0.0</td><td>0.0</td><td>0.0</td><td>0.0</td><td>0.0</td><td>1.0</td><td>0.0</td><td>0.0</td><td>0.0</td><td>1.0</td><td>1.0</td><td>0.0</td><td>0.0</td><td>0.0</td><td>0.0</td><td>0.0</td><td>1.0</td><td>0.0</td><td>0.0</td><td>0.0</td><td>1.0</td><td>0.0</td><td>0.0</td><td>0.0</td><td>0.0</td><td>1.0</td><td>0.0</td><td>1.0</td><td>0.0</td><td>1.0</td><td>0.0</td><td>0.0</td></tr><tr><td>1.33516e6</td><td>-0.007769</td><td>-0.781351</td><td>-0.198686</td><td>-0.512061</td><td>-0.00378</td><td>-0.280322</td><td>-0.12858</td><td>-0.110188</td><td>-0.200639</td><td>-0.091369</td><td>-0.600888</td><td>0.0</td><td>-0.044309</td><td>-0.132659</td><td>-0.176176</td><td>-0.127745</td><td>-0.108167</td><td>-0.046637</td><td>-0.053731</td><td>-0.049672</td><td>-0.010019</td><td>-0.266548</td><td>-0.059825</td><td>-0.109317</td><td>-0.999018</td><td>-0.459364</td><td>0.245831</td><td>-0.29861</td><td>14979.121456</td><td>18527.0</td><td>-0.061915</td><td>-0.135527</td><td>-1.404718</td><td>16424.281045</td><td>17827.0</td><td>0.428948</td><td>&hellip;</td><td>1.0</td><td>0.0</td><td>0.0</td><td>1.0</td><td>0.0</td><td>1.0</td><td>0.0</td><td>0.0</td><td>0.0</td><td>0.0</td><td>0.0</td><td>0.0</td><td>0.0</td><td>0.0</td><td>1.0</td><td>1.0</td><td>0.0</td><td>0.0</td><td>0.0</td><td>0.0</td><td>0.0</td><td>1.0</td><td>0.0</td><td>0.0</td><td>0.0</td><td>1.0</td><td>0.0</td><td>0.0</td><td>0.0</td><td>0.0</td><td>1.0</td><td>0.0</td><td>1.0</td><td>0.0</td><td>1.0</td><td>0.0</td><td>0.0</td></tr><tr><td>738517.0</td><td>0.0</td><td>-0.0</td><td>1.232503</td><td>-0.512061</td><td>-0.00378</td><td>-0.280322</td><td>-0.12858</td><td>-0.110188</td><td>-0.658794</td><td>0.0</td><td>-0.0</td><td>0.0</td><td>-0.044309</td><td>-0.132659</td><td>-0.176176</td><td>-0.127745</td><td>-0.108167</td><td>-0.046637</td><td>-0.053731</td><td>-0.049672</td><td>-0.010019</td><td>-0.266548</td><td>-0.059825</td><td>-0.109317</td><td>-0.0</td><td>0.0</td><td>0.5843</td><td>-0.29861</td><td>14979.121456</td><td>15923.181599</td><td>-0.0</td><td>-0.135527</td><td>0.570375</td><td>16424.281045</td><td>14805.119086</td><td>-0.749029</td><td>&hellip;</td><td>0.0</td><td>1.0</td><td>1.0</td><td>0.0</td><td>0.0</td><td>0.0</td><td>0.0</td><td>0.0</td><td>1.0</td><td>0.0</td><td>0.0</td><td>0.0</td><td>1.0</td><td>0.0</td><td>0.0</td><td>1.0</td><td>0.0</td><td>0.0</td><td>0.0</td><td>0.0</td><td>0.0</td><td>1.0</td><td>0.0</td><td>0.0</td><td>0.0</td><td>1.0</td><td>0.0</td><td>0.0</td><td>0.0</td><td>0.0</td><td>1.0</td><td>0.0</td><td>1.0</td><td>0.0</td><td>0.0</td><td>1.0</td><td>0.0</td></tr><tr><td>1.43344e6</td><td>-0.007769</td><td>0.201504</td><td>0.315652</td><td>-0.512061</td><td>-0.00378</td><td>-0.280322</td><td>-0.12858</td><td>-0.110188</td><td>-0.658794</td><td>-0.144343</td><td>0.155603</td><td>0.0</td><td>-0.044309</td><td>-0.132659</td><td>-0.176176</td><td>-0.127745</td><td>-0.108167</td><td>-0.046637</td><td>-0.053731</td><td>-0.049672</td><td>-0.010019</td><td>-0.266548</td><td>-0.059825</td><td>-0.109317</td><td>-0.999018</td><td>0.047235</td><td>-0.524843</td><td>-0.29861</td><td>14979.121456</td><td>15923.181599</td><td>-0.200362</td><td>-0.135527</td><td>0.62355</td><td>16424.281045</td><td>16665.0</td><td>-0.749029</td><td>&hellip;</td><td>0.0</td><td>1.0</td><td>1.0</td><td>0.0</td><td>0.0</td><td>0.0</td><td>0.0</td><td>0.0</td><td>0.0</td><td>0.0</td><td>1.0</td><td>0.0</td><td>0.0</td><td>0.0</td><td>1.0</td><td>1.0</td><td>0.0</td><td>0.0</td><td>0.0</td><td>0.0</td><td>0.0</td><td>1.0</td><td>0.0</td><td>0.0</td><td>0.0</td><td>1.0</td><td>0.0</td><td>0.0</td><td>0.0</td><td>0.0</td><td>1.0</td><td>0.0</td><td>1.0</td><td>0.0</td><td>1.0</td><td>0.0</td><td>0.0</td></tr><tr><td>40920.0</td><td>0.0</td><td>-0.0</td><td>-0.187724</td><td>-0.512061</td><td>-0.00378</td><td>-0.280322</td><td>3.181128</td><td>-0.110188</td><td>-0.658794</td><td>0.0</td><td>-0.0</td><td>0.0</td><td>-0.044309</td><td>-0.132659</td><td>-0.176176</td><td>3.944564</td><td>-0.108167</td><td>-0.046637</td><td>1.955042</td><td>-0.049672</td><td>-0.010019</td><td>-0.266548</td><td>0.123952</td><td>-0.109317</td><td>-0.0</td><td>0.0</td><td>0.230125</td><td>-0.29861</td><td>14979.121456</td><td>15923.181599</td><td>-0.0</td><td>-0.135527</td><td>0.013297</td><td>16424.281045</td><td>14805.119086</td><td>0.428948</td><td>&hellip;</td><td>0.0</td><td>1.0</td><td>1.0</td><td>0.0</td><td>0.0</td><td>0.0</td><td>0.0</td><td>1.0</td><td>0.0</td><td>0.0</td><td>0.0</td><td>0.0</td><td>1.0</td><td>0.0</td><td>0.0</td><td>1.0</td><td>0.0</td><td>0.0</td><td>0.0</td><td>0.0</td><td>0.0</td><td>1.0</td><td>0.0</td><td>0.0</td><td>0.0</td><td>1.0</td><td>0.0</td><td>0.0</td><td>0.0</td><td>0.0</td><td>0.0</td><td>1.0</td><td>1.0</td><td>0.0</td><td>1.0</td><td>0.0</td><td>0.0</td></tr></tbody></table></div>"
      ],
      "text/plain": [
       "shape: (610_664, 154)\n",
       "┌────────────┬──────────────┬──────────────┬──────────────┬───┬──────────────┬─────────────┬─────────────┬─────────────┐\n",
       "│ case_id    ┆ actualdpdtol ┆ amtinstpaidb ┆ annuity_780A ┆ … ┆ isbidproduct ┆ opencred_64 ┆ opencred_64 ┆ opencred_64 │\n",
       "│ ---        ┆ erance_344P  ┆ efduel24m_41 ┆ ---          ┆   ┆ _1095L_True  ┆ 7L_False    ┆ 7L_None     ┆ 7L_True     │\n",
       "│ f64        ┆ ---          ┆ 87115A       ┆ f64          ┆   ┆ ---          ┆ ---         ┆ ---         ┆ ---         │\n",
       "│            ┆ f64          ┆ ---          ┆              ┆   ┆ f64          ┆ f64         ┆ f64         ┆ f64         │\n",
       "│            ┆              ┆ f64          ┆              ┆   ┆              ┆             ┆             ┆             │\n",
       "╞════════════╪══════════════╪══════════════╪══════════════╪═══╪══════════════╪═════════════╪═════════════╪═════════════╡\n",
       "│ 1.819929e6 ┆ -0.007769    ┆ -0.153023    ┆ -0.947166    ┆ … ┆ 0.0          ┆ 0.0         ┆ 0.0         ┆ 1.0         │\n",
       "│ 698266.0   ┆ 0.0          ┆ -0.0         ┆ -0.346069    ┆ … ┆ 0.0          ┆ 0.0         ┆ 1.0         ┆ 0.0         │\n",
       "│ 2.634185e6 ┆ -0.007769    ┆ 1.048701     ┆ 0.657073     ┆ … ┆ 1.0          ┆ 1.0         ┆ 0.0         ┆ 0.0         │\n",
       "│ 116564.0   ┆ -0.007769    ┆ -0.0949      ┆ 0.733539     ┆ … ┆ 0.0          ┆ 1.0         ┆ 0.0         ┆ 0.0         │\n",
       "│ 1.852036e6 ┆ -0.007769    ┆ 1.044794     ┆ 0.952241     ┆ … ┆ 0.0          ┆ 1.0         ┆ 0.0         ┆ 0.0         │\n",
       "│ …          ┆ …            ┆ …            ┆ …            ┆ … ┆ …            ┆ …           ┆ …           ┆ …           │\n",
       "│ 1.325942e6 ┆ -0.007769    ┆ 0.092114     ┆ -0.987671    ┆ … ┆ 0.0          ┆ 1.0         ┆ 0.0         ┆ 0.0         │\n",
       "│ 1.33516e6  ┆ -0.007769    ┆ -0.781351    ┆ -0.198686    ┆ … ┆ 0.0          ┆ 1.0         ┆ 0.0         ┆ 0.0         │\n",
       "│ 738517.0   ┆ 0.0          ┆ -0.0         ┆ 1.232503     ┆ … ┆ 0.0          ┆ 0.0         ┆ 1.0         ┆ 0.0         │\n",
       "│ 1.43344e6  ┆ -0.007769    ┆ 0.201504     ┆ 0.315652     ┆ … ┆ 0.0          ┆ 1.0         ┆ 0.0         ┆ 0.0         │\n",
       "│ 40920.0    ┆ 0.0          ┆ -0.0         ┆ -0.187724    ┆ … ┆ 0.0          ┆ 1.0         ┆ 0.0         ┆ 0.0         │\n",
       "└────────────┴──────────────┴──────────────┴──────────────┴───┴──────────────┴─────────────┴─────────────┴─────────────┘"
      ]
     },
     "execution_count": 60,
     "metadata": {},
     "output_type": "execute_result"
    }
   ],
   "source": [
    "df2"
   ]
  },
  {
   "cell_type": "code",
   "execution_count": 61,
   "metadata": {},
   "outputs": [],
   "source": [
    "test_basetable = pl.read_csv(dataPath + \"csv_files/test/test_base.csv\")\n",
    "test_static = pl.concat(\n",
    "    [\n",
    "        pl.read_csv(dataPath + \"csv_files/test/test_static_0_0.csv\").pipe(set_table_dtypes),\n",
    "        pl.read_csv(dataPath + \"csv_files/test/test_static_0_1.csv\").pipe(set_table_dtypes),\n",
    "        pl.read_csv(dataPath + \"csv_files/test/test_static_0_2.csv\").pipe(set_table_dtypes),\n",
    "    ],\n",
    "    how=\"vertical_relaxed\",\n",
    ")\n",
    "test_static_cb = pl.read_csv(dataPath + \"csv_files/test/test_static_cb_0.csv\").pipe(set_table_dtypes)\n",
    "test_person_1 = pl.read_csv(dataPath + \"csv_files/test/test_person_1.csv\").pipe(set_table_dtypes) \n",
    "test_credit_bureau_b_2 = pl.read_csv(dataPath + \"csv_files/test/test_credit_bureau_b_2.csv\").pipe(set_table_dtypes) "
   ]
  },
  {
   "cell_type": "markdown",
   "metadata": {},
   "source": [
    "## Feature engineering\n",
    "\n",
    "In this part, we can see a simple example of joining tables via `case_id`. Here the loading and joining is done with polars library. Polars library is blazingly fast and has much smaller memory footprint than pandas. "
   ]
  },
  {
   "cell_type": "code",
   "execution_count": 63,
   "metadata": {},
   "outputs": [
    {
     "name": "stdout",
     "output_type": "stream",
     "text": [
      "['amtinstpaidbefduel24m_4187115A', 'annuity_780A', 'annuitynextmonth_57A', 'avginstallast24m_3658937A', 'avglnamtstart24m_4525187A', 'avgoutstandbalancel6m_4187114A', 'avgpmtlast12m_4525200A', 'credamount_770A', 'currdebt_22A', 'currdebtcredtyperange_828A', 'disbursedcredamount_1113A', 'downpmt_116A', 'inittransactionamount_650A', 'lastapprcommoditycat_1041M', 'lastapprcommoditytypec_5251766M', 'lastapprcredamount_781A', 'lastcancelreason_561M', 'lastotherinc_902A', 'lastotherlnsexpense_631A', 'lastrejectcommoditycat_161M', 'lastrejectcommodtypec_5251769M', 'lastrejectcredamount_222A', 'lastrejectreason_759M', 'lastrejectreasonclient_4145040M', 'maininc_215A', 'maxannuity_159A', 'maxannuity_4075009A', 'maxdebt4_972A', 'maxinstallast24m_3658928A', 'maxlnamtstart6m_4525199A', 'maxoutstandbalancel12m_4187113A', 'maxpmtlast3m_4525190A', 'previouscontdistrict_112M', 'price_1097A', 'sumoutstandtotal_3546847A', 'sumoutstandtotalest_4493215A', 'totaldebt_9A', 'totalsettled_863A', 'totinstallast1m_4525188A']\n",
      "['description_5085714M', 'education_1103M', 'education_88M', 'maritalst_385M', 'maritalst_893M', 'pmtaverage_3A', 'pmtaverage_4527227A', 'pmtaverage_4955615A', 'pmtssum_45A']\n"
     ]
    }
   ],
   "source": [
    "# We need to use aggregation functions in tables with depth > 1, so tables that contain num_group1 column or \n",
    "# also num_group2 column.\n",
    "train_person_1_feats_1 = train_person_1.group_by(\"case_id\").agg(\n",
    "    pl.col(\"mainoccupationinc_384A\").max().alias(\"mainoccupationinc_384A_max\"),\n",
    "    (pl.col(\"incometype_1044T\") == \"SELFEMPLOYED\").max().alias(\"mainoccupationinc_384A_any_selfemployed\")\n",
    ")\n",
    "\n",
    "# Here num_group1=0 has special meaning, it is the person who applied for the loan.\n",
    "train_person_1_feats_2 = train_person_1.select([\"case_id\", \"num_group1\", \"housetype_905L\"]).filter(\n",
    "    pl.col(\"num_group1\") == 0\n",
    ").drop(\"num_group1\").rename({\"housetype_905L\": \"person_housetype\"})\n",
    "\n",
    "# Here we have num_goup1 and num_group2, so we need to aggregate again.\n",
    "train_credit_bureau_b_2_feats = train_credit_bureau_b_2.group_by(\"case_id\").agg(\n",
    "    pl.col(\"pmts_pmtsoverdue_635A\").max().alias(\"pmts_pmtsoverdue_635A_max\"),\n",
    "    (pl.col(\"pmts_dpdvalue_108P\") > 31).max().alias(\"pmts_dpdvalue_108P_over31\")\n",
    ")\n",
    "\n",
    "# We will process in this examples only A-type and M-type columns, so we need to select them.\n",
    "selected_static_cols = []\n",
    "for col in train_static.columns:\n",
    "    if col[-1] in (\"A\", \"M\"):\n",
    "        selected_static_cols.append(col)\n",
    "print(selected_static_cols)\n",
    "\n",
    "selected_static_cb_cols = []\n",
    "for col in train_static_cb.columns:\n",
    "    if col[-1] in (\"A\", \"M\"):\n",
    "        selected_static_cb_cols.append(col)\n",
    "print(selected_static_cb_cols)\n",
    "\n",
    "# Join all tables together.\n",
    "data = train_basetable.join(\n",
    "    train_static.select([\"case_id\"]+selected_static_cols), how=\"left\", on=\"case_id\"\n",
    ").join(\n",
    "    train_static_cb.select([\"case_id\"]+selected_static_cb_cols), how=\"left\", on=\"case_id\"\n",
    ").join(\n",
    "    train_person_1_feats_1, how=\"left\", on=\"case_id\"\n",
    ").join(\n",
    "    train_person_1_feats_2, how=\"left\", on=\"case_id\"\n",
    ").join(\n",
    "    train_credit_bureau_b_2_feats, how=\"left\", on=\"case_id\"\n",
    ")"
   ]
  },
  {
   "cell_type": "code",
   "execution_count": 64,
   "metadata": {},
   "outputs": [],
   "source": [
    "test_person_1_feats_1 = train_person_1.group_by(\"case_id\").agg(\n",
    "    pl.col(\"mainoccupationinc_384A\").max().alias(\"mainoccupationinc_384A_max\"),\n",
    "    (pl.col(\"incometype_1044T\") == \"SELFEMPLOYED\").max().alias(\"mainoccupationinc_384A_any_selfemployed\")\n",
    ")\n",
    "\n",
    "test_person_1_feats_2 = train_person_1.select([\"case_id\", \"num_group1\", \"housetype_905L\"]).filter(\n",
    "    pl.col(\"num_group1\") == 0\n",
    ").drop(\"num_group1\").rename({\"housetype_905L\": \"person_housetype\"})\n",
    "\n",
    "test_credit_bureau_b_2_feats = train_credit_bureau_b_2.group_by(\"case_id\").agg(\n",
    "    pl.col(\"pmts_pmtsoverdue_635A\").max().alias(\"pmts_pmtsoverdue_635A_max\"),\n",
    "    (pl.col(\"pmts_dpdvalue_108P\") > 31).max().alias(\"pmts_dpdvalue_108P_over31\")\n",
    ")\n",
    "\n",
    "data_submission = test_basetable.join(\n",
    "    test_static.select([\"case_id\"]+selected_static_cols), how=\"left\", on=\"case_id\"\n",
    ").join(\n",
    "    test_static_cb.select([\"case_id\"]+selected_static_cb_cols), how=\"left\", on=\"case_id\"\n",
    ").join(\n",
    "    test_person_1_feats_1, how=\"left\", on=\"case_id\"\n",
    ").join(\n",
    "    test_person_1_feats_2, how=\"left\", on=\"case_id\"\n",
    ").join(\n",
    "    test_credit_bureau_b_2_feats, how=\"left\", on=\"case_id\"\n",
    ")"
   ]
  },
  {
   "cell_type": "code",
   "execution_count": 65,
   "metadata": {},
   "outputs": [
    {
     "name": "stdout",
     "output_type": "stream",
     "text": [
      "['amtinstpaidbefduel24m_4187115A', 'annuity_780A', 'annuitynextmonth_57A', 'avginstallast24m_3658937A', 'avglnamtstart24m_4525187A', 'avgoutstandbalancel6m_4187114A', 'avgpmtlast12m_4525200A', 'credamount_770A', 'currdebt_22A', 'currdebtcredtyperange_828A', 'disbursedcredamount_1113A', 'downpmt_116A', 'inittransactionamount_650A', 'lastapprcommoditycat_1041M', 'lastapprcommoditytypec_5251766M', 'lastapprcredamount_781A', 'lastcancelreason_561M', 'lastotherinc_902A', 'lastotherlnsexpense_631A', 'lastrejectcommoditycat_161M', 'lastrejectcommodtypec_5251769M', 'lastrejectcredamount_222A', 'lastrejectreason_759M', 'lastrejectreasonclient_4145040M', 'maininc_215A', 'maxannuity_159A', 'maxannuity_4075009A', 'maxdebt4_972A', 'maxinstallast24m_3658928A', 'maxlnamtstart6m_4525199A', 'maxoutstandbalancel12m_4187113A', 'maxpmtlast3m_4525190A', 'previouscontdistrict_112M', 'price_1097A', 'sumoutstandtotal_3546847A', 'sumoutstandtotalest_4493215A', 'totaldebt_9A', 'totalsettled_863A', 'totinstallast1m_4525188A', 'description_5085714M', 'education_1103M', 'education_88M', 'maritalst_385M', 'maritalst_893M', 'pmtaverage_3A', 'pmtaverage_4527227A', 'pmtaverage_4955615A', 'pmtssum_45A']\n"
     ]
    }
   ],
   "source": [
    "case_ids = data[\"case_id\"].unique().shuffle(seed=1)\n",
    "case_ids_train, case_ids_test = train_test_split(case_ids, train_size=0.6, random_state=1)\n",
    "case_ids_valid, case_ids_test = train_test_split(case_ids_test, train_size=0.5, random_state=1)\n",
    "\n",
    "cols_pred = []\n",
    "for col in data.columns:\n",
    "    if col[-1].isupper() and col[:-1].islower():\n",
    "        cols_pred.append(col)\n",
    "\n",
    "print(cols_pred)\n",
    "\n",
    "def from_polars_to_pandas(case_ids: pl.DataFrame) -> pl.DataFrame:\n",
    "    return (\n",
    "        data.filter(pl.col(\"case_id\").is_in(case_ids))[[\"case_id\", \"WEEK_NUM\", \"target\"]].to_pandas(),\n",
    "        data.filter(pl.col(\"case_id\").is_in(case_ids))[cols_pred].to_pandas(),\n",
    "        data.filter(pl.col(\"case_id\").is_in(case_ids))[\"target\"].to_pandas()\n",
    "    )\n",
    "\n",
    "base_train, X_train, y_train = from_polars_to_pandas(case_ids_train)\n",
    "base_valid, X_valid, y_valid = from_polars_to_pandas(case_ids_valid)\n",
    "base_test, X_test, y_test = from_polars_to_pandas(case_ids_test)\n",
    "\n",
    "for df in [X_train, X_valid, X_test]:\n",
    "    df = convert_strings(df)"
   ]
  },
  {
   "cell_type": "code",
   "execution_count": 66,
   "metadata": {},
   "outputs": [
    {
     "name": "stdout",
     "output_type": "stream",
     "text": [
      "Train: (915995, 48)\n",
      "Valid: (305332, 48)\n",
      "Test: (305332, 48)\n"
     ]
    }
   ],
   "source": [
    "print(f\"Train: {X_train.shape}\")\n",
    "print(f\"Valid: {X_valid.shape}\")\n",
    "print(f\"Test: {X_test.shape}\")"
   ]
  },
  {
   "cell_type": "markdown",
   "metadata": {},
   "source": [
    "## Training LightGBM"
   ]
  },
  {
   "cell_type": "code",
   "execution_count": 68,
   "metadata": {},
   "outputs": [
    {
     "name": "stderr",
     "output_type": "stream",
     "text": [
      "C:\\Users\\yaman\\anaconda3\\Lib\\site-packages\\lightgbm\\engine.py:204: UserWarning: Found `n_estimators` in params. Will use it instead of argument\n",
      "  _log_warning(f\"Found `{alias}` in params. Will use it instead of argument\")\n"
     ]
    },
    {
     "name": "stdout",
     "output_type": "stream",
     "text": [
      "Training until validation scores don't improve for 1000 rounds\n",
      "[50]\tvalid_0's auc: 0.705963\n",
      "[100]\tvalid_0's auc: 0.724362\n",
      "[150]\tvalid_0's auc: 0.731423\n",
      "[200]\tvalid_0's auc: 0.735874\n",
      "[250]\tvalid_0's auc: 0.739009\n",
      "[300]\tvalid_0's auc: 0.740965\n",
      "[350]\tvalid_0's auc: 0.742924\n",
      "[400]\tvalid_0's auc: 0.744582\n",
      "[450]\tvalid_0's auc: 0.745977\n",
      "[500]\tvalid_0's auc: 0.747033\n",
      "[550]\tvalid_0's auc: 0.747877\n",
      "[600]\tvalid_0's auc: 0.749039\n",
      "[650]\tvalid_0's auc: 0.750087\n",
      "[700]\tvalid_0's auc: 0.750863\n",
      "[750]\tvalid_0's auc: 0.751207\n",
      "[800]\tvalid_0's auc: 0.751792\n",
      "[850]\tvalid_0's auc: 0.752608\n",
      "[900]\tvalid_0's auc: 0.753146\n",
      "[950]\tvalid_0's auc: 0.753504\n",
      "[1000]\tvalid_0's auc: 0.753937\n",
      "Did not meet early stopping. Best iteration is:\n",
      "[984]\tvalid_0's auc: 0.753951\n"
     ]
    }
   ],
   "source": [
    "lgb_train = lgb.Dataset(X_train, label=y_train)\n",
    "lgb_valid = lgb.Dataset(X_valid, label=y_valid, reference=lgb_train)\n",
    "\n",
    "params = {\n",
    "    \"boosting_type\": \"gbdt\",\n",
    "    \"objective\": \"binary\",\n",
    "    \"metric\": \"auc\",\n",
    "    \"max_depth\": 3,\n",
    "    \"num_leaves\": 31,\n",
    "    \"learning_rate\": 0.05,\n",
    "    \"feature_fraction\": 0.9,\n",
    "    \"bagging_fraction\": 0.8,\n",
    "    \"bagging_freq\": 5,\n",
    "    \"n_estimators\": 1000,\n",
    "    \"verbose\": -1,\n",
    "}\n",
    "\n",
    "gbm = lgb.train(\n",
    "    params,\n",
    "    lgb_train,\n",
    "    valid_sets=lgb_valid,\n",
    "    callbacks=[lgb.log_evaluation(50), lgb.early_stopping(1000)]\n",
    ")"
   ]
  },
  {
   "cell_type": "markdown",
   "metadata": {},
   "source": [
    "Evaluation with AUC and then comparison with the stability metric is shown below."
   ]
  },
  {
   "cell_type": "code",
   "execution_count": 70,
   "metadata": {},
   "outputs": [
    {
     "name": "stdout",
     "output_type": "stream",
     "text": [
      "The AUC score on the train set is: 0.7509685352379327\n",
      "The AUC score on the valid set is: 0.7539505564652744\n",
      "The AUC score on the test set is: 0.7509685352379327\n"
     ]
    }
   ],
   "source": [
    "for base, X in [(base_train, X_train), (base_valid, X_valid), (base_test, X_test)]:\n",
    "    y_pred = gbm.predict(X, num_iteration=gbm.best_iteration)\n",
    "    base[\"score\"] = y_pred\n",
    "\n",
    "print(f'The AUC score on the train set is: {roc_auc_score(base_test[\"target\"], base_test[\"score\"])}') \n",
    "print(f'The AUC score on the valid set is: {roc_auc_score(base_valid[\"target\"], base_valid[\"score\"])}') \n",
    "print(f'The AUC score on the test set is: {roc_auc_score(base_test[\"target\"], base_test[\"score\"])}')  "
   ]
  },
  {
   "cell_type": "code",
   "execution_count": null,
   "metadata": {},
   "outputs": [],
   "source": []
  }
 ],
 "metadata": {
  "kaggle": {
   "accelerator": "none",
   "dataSources": [
    {
     "databundleVersionId": 7921029,
     "sourceId": 50160,
     "sourceType": "competition"
    }
   ],
   "dockerImageVersionId": 30635,
   "isGpuEnabled": false,
   "isInternetEnabled": true,
   "language": "python",
   "sourceType": "notebook"
  },
  "kernelspec": {
   "display_name": "Python 3 (ipykernel)",
   "language": "python",
   "name": "python3"
  },
  "language_info": {
   "codemirror_mode": {
    "name": "ipython",
    "version": 3
   },
   "file_extension": ".py",
   "mimetype": "text/x-python",
   "name": "python",
   "nbconvert_exporter": "python",
   "pygments_lexer": "ipython3",
   "version": "3.11.7"
  }
 },
 "nbformat": 4,
 "nbformat_minor": 4
}
